{
 "cells": [
  {
   "cell_type": "markdown",
   "metadata": {
    "id": "Jo9kCD8erdJ5"
   },
   "source": [
    "## **PART 1: MAKING SPOTIFY API CALL**"
   ]
  },
  {
   "cell_type": "markdown",
   "metadata": {
    "id": "rEIIK6fjrqXN"
   },
   "source": [
    "**IMPORT LIBRARY**"
   ]
  },
  {
   "cell_type": "code",
   "execution_count": 1,
   "metadata": {
    "id": "58I5AF8Al8BQ"
   },
   "outputs": [],
   "source": [
    "#import libraries\n",
    "import requests\n",
    "import pandas as pd\n",
    "import time"
   ]
  },
  {
   "cell_type": "markdown",
   "metadata": {
    "id": "I-_I9qZQrxr0"
   },
   "source": [
    "**TOKEN ID**"
   ]
  },
  {
   "cell_type": "code",
   "execution_count": 2,
   "metadata": {
    "id": "P63hPXswpQPo"
   },
   "outputs": [],
   "source": [
    "token = 'BQATzXxqWqR9JBL2gOwOstG6fJ3RLsS2fdhOSZtgcLNQBmlMjEEZGEitnXKcGJk0-3cZ_z8f1P-M5Zi85NPGzZGCBzeN33p-7tEq2P-KooX9mYEyL095OEkbl1tvKZFn3_NrPtYlpr_KxnKqqHZ1JYyJ0tmXg10'"
   ]
  },
  {
   "cell_type": "markdown",
   "metadata": {
    "id": "jJiSlQV2r3zJ"
   },
   "source": [
    "**ARTISTS**"
   ]
  },
  {
   "cell_type": "code",
   "execution_count": 3,
   "metadata": {
    "id": "tYbkcUQljUTS"
   },
   "outputs": [],
   "source": [
    "artists = ['drake','young thug','adele','taylor swift','kanye west','mac miller','juice wrld','doja cat','lil baby','the weeknd', 'morgan wallen','j. cole','rod wave','billie eilish', 'dababy', 'pop smoke', 'future', 'eminem', 'bad bunny', 'rod wave', 'billie eilish', 'ariana grande', 'luke combs', 'roddy ricch', 'travis scott', 'Xxxtentacion', 'justin bieber', 'gunna', 'lil wayne']"
   ]
  },
  {
   "cell_type": "code",
   "execution_count": 4,
   "metadata": {},
   "outputs": [
    {
     "data": {
      "text/plain": [
       "29"
      ]
     },
     "execution_count": 4,
     "metadata": {},
     "output_type": "execute_result"
    }
   ],
   "source": [
    "len(artists)"
   ]
  },
  {
   "cell_type": "code",
   "execution_count": null,
   "metadata": {
    "id": "NQxutDGrwZ4Q"
   },
   "outputs": [],
   "source": [
    "artist_list = ['drake','young thug','youngboy never broke again',\n",
    "               'adele','taylor swift','kanye west','mac miller',\n",
    "               'juice wrld','doja cat','lil baby','the weeknd',\n",
    "               'morgan wallen','j. cole','rod wave','billie eilish']"
   ]
  },
  {
   "cell_type": "markdown",
   "metadata": {
    "id": "gOWpAcnur8jm"
   },
   "source": [
    "**API CALL CLASS**"
   ]
  },
  {
   "cell_type": "code",
   "execution_count": 5,
   "metadata": {
    "id": "D13-OH0ywmkP"
   },
   "outputs": [],
   "source": [
    "class Artist_breakdown():\n",
    "\n",
    "  def __init__(self, artist_name, token):\n",
    "    self.artist_name = artist_name\n",
    "    self.token = token\n",
    "    self.artist_json_file = self.artist_search()\n",
    "    self.genre = self.artist_json_info()[0]\n",
    "    self.artist_id = self.artist_json_info()[1]\n",
    "    self.artist_name = self.artist_json_info()[2]\n",
    "    self.artist_popularity = self.artist_json_info()[3]\n",
    "\n",
    "    self.album_json_file = self.album_search()\n",
    "    self.album_type = self.album_info()[0]\n",
    "    self.total_tracks = self.album_info()[1]\n",
    "    self.release_date = self.album_info()[2]\n",
    "    self.album_id = self.album_info()[3]\n",
    "    self.available_markets = self.album_info()[4]\n",
    "    self.album_name = self.album_info()[5]\n",
    "\n",
    "    #self.track_json_file = self.track_search() ####\n",
    "    self.duration_ms = [] #self.track_info()[1]\n",
    "    self.track_id = [] #self.track_info()[2]\n",
    "    self.track_title = self.track_info()[0]\n",
    "\n",
    "    #self.track_deep_json_file = self.track_deep_search() ####\n",
    "    self.track_popularity = self.track_deep_info()\n",
    "\n",
    "  def artist_search(self):  \n",
    "    token_url = 'https://api.spotify.com/v1/search'\n",
    "    query = {'q': self.artist_name,'type':'artist'}\n",
    "    authorization = {'Authorization': f'Bearer {self.token}'}\n",
    "    artist_response = requests.get(token_url, params = query, headers = authorization).json()\n",
    "    return artist_response\n",
    "\n",
    "  def artist_json_info(self):\n",
    "    artist_search_response = self.artist_json_file\n",
    "    genre = artist_search_response['artists']['items'][0]['genres'][0]\n",
    "    artist_id = artist_search_response['artists']['items'][0]['id']\n",
    "    artist_name = artist_search_response['artists']['items'][0]['name']\n",
    "    artist_popularity = artist_search_response['artists']['items'][0]['popularity']\n",
    "    return genre,artist_id,artist_name,artist_popularity\n",
    "\n",
    "  def album_search(self):\n",
    "    token_url = f'https://api.spotify.com/v1/artists/{self.artist_id}/albums'\n",
    "    query = {'id':self.artist_id}\n",
    "    authorization = {'Authorization': f'Bearer {self.token}'}\n",
    "    return requests.get(token_url, headers = authorization).json()\n",
    "\n",
    "  #create function that will loop through the json object and retrieve Album ID, Album name, Release date, Total Tracks, Type\n",
    "  def album_info(self):\n",
    "    album_search_response = self.album_json_file\n",
    "\n",
    "    album_type = [album_search_response['items'][0]['type']]\n",
    "    total_tracks = [album_search_response['items'][0]['total_tracks']]\n",
    "    release_date = [album_search_response['items'][0]['release_date']]\n",
    "    album_id = [album_search_response['items'][1]['id']]\n",
    "    available_markets = [len(album_search_response['items'][0]['available_markets'])]\n",
    "    album_name = [album_search_response['items'][0]['name']]\n",
    "\n",
    "    for item in album_search_response['items']:\n",
    "      if item['name'] != album_name[-1]:\n",
    "        album_type.append(item['type'])\n",
    "        total_tracks.append(item['total_tracks'])\n",
    "        release_date.append(item['release_date'])\n",
    "        album_id.append(item['id'])\n",
    "        available_markets.append(len(item['available_markets']))\n",
    "        album_name.append(item['name'])\n",
    "    return album_type, total_tracks, release_date, album_id, available_markets, album_name\n",
    "\n",
    "\n",
    "  def track_search(self, album_id):\n",
    "    token_url = f'https://api.spotify.com/v1/albums/{album_id}/tracks'\n",
    "    authorization = {'Authorization': f'Bearer {self.token}'}\n",
    "    return requests.get(token_url, headers = authorization).json()\n",
    "\n",
    "  def track_info(self):\n",
    "    track_title,duration_ms,track_id = [],[],[]\n",
    "    genre, artist_id, artist_name, artist_popularity = [],[],[],[]\n",
    "    album_type, total_tracks, release_date, album_id, available_markets, album_name = [],[],[],[],[],[]\n",
    "    i = 0\n",
    "\n",
    "    for id in self.album_id:\n",
    "      response = self.track_search(id)\n",
    "      time.sleep(0.2)\n",
    "      for item in response['items']:\n",
    "        track_title.append(item['name'])\n",
    "        duration_ms.append(item['duration_ms'])\n",
    "        track_id.append(item['id'])\n",
    "\n",
    "        album_type.append(self.album_type[i])\n",
    "        total_tracks.append(self.total_tracks[i])\n",
    "        release_date.append(self.release_date[i])\n",
    "        album_id.append(self.album_id[i])\n",
    "        available_markets.append(self.available_markets[i])\n",
    "        album_name.append(self.album_name[i])\n",
    "\n",
    "      i += 1\n",
    "    self.track_id = track_id\n",
    "    self.album_type = album_type\n",
    "    self.total_tracks = total_tracks\n",
    "    self.release_date = release_date\n",
    "    self.album_id = album_id\n",
    "    self.available_markets = available_markets\n",
    "    self.album_name = album_name\n",
    "\n",
    "    self.genre = [self.genre] * len(self.track_id)\n",
    "    self.artist_id = [self.artist_id] * len(self.track_id)\n",
    "    self.artist_name = [self.artist_name] * len(self.track_id)\n",
    "    self.artist_popularity = [self.artist_popularity] * len(self.track_id)\n",
    "\n",
    "    self.track_title = track_title\n",
    "    self.duration_ms = duration_ms\n",
    "    self.track_id = track_id\n",
    "    return track_title, duration_ms, track_id\n",
    "\n",
    "\n",
    "  def track_deep_search(self, track_id):\n",
    "    token_url = f'https://api.spotify.com/v1/tracks/{track_id}'\n",
    "    authorization = {'Authorization': f'Bearer {self.token}'}\n",
    "    return requests.get(token_url, headers = authorization).json()\n",
    "\n",
    "  def track_deep_info(self):\n",
    "    popularity = []\n",
    "    for id in self.track_id:\n",
    "      response = self.track_deep_search(id)\n",
    "      popularity.append(response['popularity'])\n",
    "      time.sleep(0.2)\n",
    "    self.track_popularity = popularity\n",
    "    return popularity\n"
   ]
  },
  {
   "cell_type": "code",
   "execution_count": 6,
   "metadata": {
    "id": "wWrTHM6ihp87"
   },
   "outputs": [],
   "source": [
    "a,b,n,c,d,e,f,g,h,i,j,k,l,m = [],[],[],[],[],[],[],[],[],[],[],[],[],[]"
   ]
  },
  {
   "cell_type": "code",
   "execution_count": 7,
   "metadata": {
    "id": "orZHh2YLjqUt"
   },
   "outputs": [],
   "source": [
    "for artist in artists:\n",
    "  artist_info = Artist_breakdown(artist, token)\n",
    "  a += artist_info.track_title\n",
    "  b += artist_info.duration_ms\n",
    "  n += artist_info.track_id\n",
    "  c += artist_info.artist_name\n",
    "  d += artist_info.artist_id\n",
    "  e += artist_info.genre\n",
    "  f += artist_info.artist_popularity\n",
    "  g += artist_info.album_name\n",
    "  h += artist_info.release_date\n",
    "  i += artist_info.album_id\n",
    "  j += artist_info.total_tracks\n",
    "  k += artist_info.available_markets\n",
    "  l += artist_info.album_type\n",
    "  m += artist_info.track_popularity\n",
    "my_dictionary = {'Track Title':a, 'Track Duration (sec)':b, 'Track ID': n,\n",
    "                 'Artist':c, 'Artist ID':d, 'Genre':e,\n",
    "                 'Artist Popularity':f, 'Album Name':g,\n",
    "                 'Release Date':h,'Album ID':i, 'Total Tracks':j,\n",
    "                 'Available Markets':k,'Album Type':l,'Track Popularity':m}"
   ]
  },
  {
   "cell_type": "markdown",
   "metadata": {
    "id": "CzyVSfcnsGXQ"
   },
   "source": [
    "**DATAFRAME**"
   ]
  },
  {
   "cell_type": "code",
   "execution_count": 8,
   "metadata": {
    "colab": {
     "base_uri": "https://localhost:8080/",
     "height": 817
    },
    "id": "QSPdGdS2oOzb",
    "outputId": "0222de1b-d448-45b6-d008-d95fdbf64bbe"
   },
   "outputs": [
    {
     "data": {
      "text/html": [
       "<div>\n",
       "<style scoped>\n",
       "    .dataframe tbody tr th:only-of-type {\n",
       "        vertical-align: middle;\n",
       "    }\n",
       "\n",
       "    .dataframe tbody tr th {\n",
       "        vertical-align: top;\n",
       "    }\n",
       "\n",
       "    .dataframe thead th {\n",
       "        text-align: right;\n",
       "    }\n",
       "</style>\n",
       "<table border=\"1\" class=\"dataframe\">\n",
       "  <thead>\n",
       "    <tr style=\"text-align: right;\">\n",
       "      <th></th>\n",
       "      <th>Track Title</th>\n",
       "      <th>Track Duration (sec)</th>\n",
       "      <th>Track ID</th>\n",
       "      <th>Artist</th>\n",
       "      <th>Artist ID</th>\n",
       "      <th>Genre</th>\n",
       "      <th>Artist Popularity</th>\n",
       "      <th>Album Name</th>\n",
       "      <th>Release Date</th>\n",
       "      <th>Album ID</th>\n",
       "      <th>Total Tracks</th>\n",
       "      <th>Available Markets</th>\n",
       "      <th>Album Type</th>\n",
       "      <th>Track Popularity</th>\n",
       "    </tr>\n",
       "  </thead>\n",
       "  <tbody>\n",
       "    <tr>\n",
       "      <th>0</th>\n",
       "      <td>Champagne Poetry</td>\n",
       "      <td>336511</td>\n",
       "      <td>7LSINVHqMXPt4FkTgcH6bt</td>\n",
       "      <td>Drake</td>\n",
       "      <td>3TVXtAsR1Inumwj472S9r4</td>\n",
       "      <td>canadian hip hop</td>\n",
       "      <td>100</td>\n",
       "      <td>Certified Lover Boy</td>\n",
       "      <td>2021-09-03</td>\n",
       "      <td>6sp02aeyiwfX35xRqwNiPv</td>\n",
       "      <td>21</td>\n",
       "      <td>178</td>\n",
       "      <td>album</td>\n",
       "      <td>50</td>\n",
       "    </tr>\n",
       "    <tr>\n",
       "      <th>1</th>\n",
       "      <td>Papi’s Home</td>\n",
       "      <td>178623</td>\n",
       "      <td>6C62fl8x0vzwxPqay8twie</td>\n",
       "      <td>Drake</td>\n",
       "      <td>3TVXtAsR1Inumwj472S9r4</td>\n",
       "      <td>canadian hip hop</td>\n",
       "      <td>100</td>\n",
       "      <td>Certified Lover Boy</td>\n",
       "      <td>2021-09-03</td>\n",
       "      <td>6sp02aeyiwfX35xRqwNiPv</td>\n",
       "      <td>21</td>\n",
       "      <td>178</td>\n",
       "      <td>album</td>\n",
       "      <td>45</td>\n",
       "    </tr>\n",
       "    <tr>\n",
       "      <th>2</th>\n",
       "      <td>Girls Want Girls (with Lil Baby)</td>\n",
       "      <td>221979</td>\n",
       "      <td>60kRxS2TC4qb2WBPmRmfv4</td>\n",
       "      <td>Drake</td>\n",
       "      <td>3TVXtAsR1Inumwj472S9r4</td>\n",
       "      <td>canadian hip hop</td>\n",
       "      <td>100</td>\n",
       "      <td>Certified Lover Boy</td>\n",
       "      <td>2021-09-03</td>\n",
       "      <td>6sp02aeyiwfX35xRqwNiPv</td>\n",
       "      <td>21</td>\n",
       "      <td>178</td>\n",
       "      <td>album</td>\n",
       "      <td>55</td>\n",
       "    </tr>\n",
       "    <tr>\n",
       "      <th>3</th>\n",
       "      <td>In The Bible (with Lil Durk &amp; Giveon)</td>\n",
       "      <td>296568</td>\n",
       "      <td>7xXVDIulqmlBvDLFMfc3uX</td>\n",
       "      <td>Drake</td>\n",
       "      <td>3TVXtAsR1Inumwj472S9r4</td>\n",
       "      <td>canadian hip hop</td>\n",
       "      <td>100</td>\n",
       "      <td>Certified Lover Boy</td>\n",
       "      <td>2021-09-03</td>\n",
       "      <td>6sp02aeyiwfX35xRqwNiPv</td>\n",
       "      <td>21</td>\n",
       "      <td>178</td>\n",
       "      <td>album</td>\n",
       "      <td>45</td>\n",
       "    </tr>\n",
       "    <tr>\n",
       "      <th>4</th>\n",
       "      <td>Love All (with JAY-Z)</td>\n",
       "      <td>228461</td>\n",
       "      <td>7L8V5vHLo6fMbNaVI7rbhU</td>\n",
       "      <td>Drake</td>\n",
       "      <td>3TVXtAsR1Inumwj472S9r4</td>\n",
       "      <td>canadian hip hop</td>\n",
       "      <td>100</td>\n",
       "      <td>Certified Lover Boy</td>\n",
       "      <td>2021-09-03</td>\n",
       "      <td>6sp02aeyiwfX35xRqwNiPv</td>\n",
       "      <td>21</td>\n",
       "      <td>178</td>\n",
       "      <td>album</td>\n",
       "      <td>45</td>\n",
       "    </tr>\n",
       "    <tr>\n",
       "      <th>...</th>\n",
       "      <td>...</td>\n",
       "      <td>...</td>\n",
       "      <td>...</td>\n",
       "      <td>...</td>\n",
       "      <td>...</td>\n",
       "      <td>...</td>\n",
       "      <td>...</td>\n",
       "      <td>...</td>\n",
       "      <td>...</td>\n",
       "      <td>...</td>\n",
       "      <td>...</td>\n",
       "      <td>...</td>\n",
       "      <td>...</td>\n",
       "      <td>...</td>\n",
       "    </tr>\n",
       "    <tr>\n",
       "      <th>4092</th>\n",
       "      <td>Trippy</td>\n",
       "      <td>263546</td>\n",
       "      <td>4SBC7RFDL8i1QBwMCfIiKX</td>\n",
       "      <td>Lil Wayne</td>\n",
       "      <td>55Aa2cqylxrFIXC767Z865</td>\n",
       "      <td>hip hop</td>\n",
       "      <td>90</td>\n",
       "      <td>I Am Not A Human Being II</td>\n",
       "      <td>2013-03-22</td>\n",
       "      <td>2EZ3h6cM5eC65qSHCghdIZ</td>\n",
       "      <td>14</td>\n",
       "      <td>151</td>\n",
       "      <td>album</td>\n",
       "      <td>17</td>\n",
       "    </tr>\n",
       "    <tr>\n",
       "      <th>4093</th>\n",
       "      <td>Love Me</td>\n",
       "      <td>255053</td>\n",
       "      <td>5LL5mK7OdCZ2FEldMOExNT</td>\n",
       "      <td>Lil Wayne</td>\n",
       "      <td>55Aa2cqylxrFIXC767Z865</td>\n",
       "      <td>hip hop</td>\n",
       "      <td>90</td>\n",
       "      <td>I Am Not A Human Being II</td>\n",
       "      <td>2013-03-22</td>\n",
       "      <td>2EZ3h6cM5eC65qSHCghdIZ</td>\n",
       "      <td>14</td>\n",
       "      <td>151</td>\n",
       "      <td>album</td>\n",
       "      <td>34</td>\n",
       "    </tr>\n",
       "    <tr>\n",
       "      <th>4094</th>\n",
       "      <td>God Bless Amerika</td>\n",
       "      <td>303000</td>\n",
       "      <td>4wLFAxDMU8Eb1cuumqBe1z</td>\n",
       "      <td>Lil Wayne</td>\n",
       "      <td>55Aa2cqylxrFIXC767Z865</td>\n",
       "      <td>hip hop</td>\n",
       "      <td>90</td>\n",
       "      <td>I Am Not A Human Being II</td>\n",
       "      <td>2013-03-22</td>\n",
       "      <td>2EZ3h6cM5eC65qSHCghdIZ</td>\n",
       "      <td>14</td>\n",
       "      <td>151</td>\n",
       "      <td>album</td>\n",
       "      <td>24</td>\n",
       "    </tr>\n",
       "    <tr>\n",
       "      <th>4095</th>\n",
       "      <td>Wowzerz</td>\n",
       "      <td>225360</td>\n",
       "      <td>2Rs2jS7FVMYiDnh9bqkzj6</td>\n",
       "      <td>Lil Wayne</td>\n",
       "      <td>55Aa2cqylxrFIXC767Z865</td>\n",
       "      <td>hip hop</td>\n",
       "      <td>90</td>\n",
       "      <td>I Am Not A Human Being II</td>\n",
       "      <td>2013-03-22</td>\n",
       "      <td>2EZ3h6cM5eC65qSHCghdIZ</td>\n",
       "      <td>14</td>\n",
       "      <td>151</td>\n",
       "      <td>album</td>\n",
       "      <td>14</td>\n",
       "    </tr>\n",
       "    <tr>\n",
       "      <th>4096</th>\n",
       "      <td>Hello</td>\n",
       "      <td>243133</td>\n",
       "      <td>0BayBaVnIPEs8E6yH0Uqri</td>\n",
       "      <td>Lil Wayne</td>\n",
       "      <td>55Aa2cqylxrFIXC767Z865</td>\n",
       "      <td>hip hop</td>\n",
       "      <td>90</td>\n",
       "      <td>I Am Not A Human Being II</td>\n",
       "      <td>2013-03-22</td>\n",
       "      <td>2EZ3h6cM5eC65qSHCghdIZ</td>\n",
       "      <td>14</td>\n",
       "      <td>151</td>\n",
       "      <td>album</td>\n",
       "      <td>16</td>\n",
       "    </tr>\n",
       "  </tbody>\n",
       "</table>\n",
       "<p>4097 rows × 14 columns</p>\n",
       "</div>"
      ],
      "text/plain": [
       "                                Track Title  Track Duration (sec)  \\\n",
       "0                          Champagne Poetry                336511   \n",
       "1                               Papi’s Home                178623   \n",
       "2          Girls Want Girls (with Lil Baby)                221979   \n",
       "3     In The Bible (with Lil Durk & Giveon)                296568   \n",
       "4                     Love All (with JAY-Z)                228461   \n",
       "...                                     ...                   ...   \n",
       "4092                                 Trippy                263546   \n",
       "4093                                Love Me                255053   \n",
       "4094                      God Bless Amerika                303000   \n",
       "4095                                Wowzerz                225360   \n",
       "4096                                  Hello                243133   \n",
       "\n",
       "                    Track ID     Artist               Artist ID  \\\n",
       "0     7LSINVHqMXPt4FkTgcH6bt      Drake  3TVXtAsR1Inumwj472S9r4   \n",
       "1     6C62fl8x0vzwxPqay8twie      Drake  3TVXtAsR1Inumwj472S9r4   \n",
       "2     60kRxS2TC4qb2WBPmRmfv4      Drake  3TVXtAsR1Inumwj472S9r4   \n",
       "3     7xXVDIulqmlBvDLFMfc3uX      Drake  3TVXtAsR1Inumwj472S9r4   \n",
       "4     7L8V5vHLo6fMbNaVI7rbhU      Drake  3TVXtAsR1Inumwj472S9r4   \n",
       "...                      ...        ...                     ...   \n",
       "4092  4SBC7RFDL8i1QBwMCfIiKX  Lil Wayne  55Aa2cqylxrFIXC767Z865   \n",
       "4093  5LL5mK7OdCZ2FEldMOExNT  Lil Wayne  55Aa2cqylxrFIXC767Z865   \n",
       "4094  4wLFAxDMU8Eb1cuumqBe1z  Lil Wayne  55Aa2cqylxrFIXC767Z865   \n",
       "4095  2Rs2jS7FVMYiDnh9bqkzj6  Lil Wayne  55Aa2cqylxrFIXC767Z865   \n",
       "4096  0BayBaVnIPEs8E6yH0Uqri  Lil Wayne  55Aa2cqylxrFIXC767Z865   \n",
       "\n",
       "                 Genre  Artist Popularity                 Album Name  \\\n",
       "0     canadian hip hop                100        Certified Lover Boy   \n",
       "1     canadian hip hop                100        Certified Lover Boy   \n",
       "2     canadian hip hop                100        Certified Lover Boy   \n",
       "3     canadian hip hop                100        Certified Lover Boy   \n",
       "4     canadian hip hop                100        Certified Lover Boy   \n",
       "...                ...                ...                        ...   \n",
       "4092           hip hop                 90  I Am Not A Human Being II   \n",
       "4093           hip hop                 90  I Am Not A Human Being II   \n",
       "4094           hip hop                 90  I Am Not A Human Being II   \n",
       "4095           hip hop                 90  I Am Not A Human Being II   \n",
       "4096           hip hop                 90  I Am Not A Human Being II   \n",
       "\n",
       "     Release Date                Album ID  Total Tracks  Available Markets  \\\n",
       "0      2021-09-03  6sp02aeyiwfX35xRqwNiPv            21                178   \n",
       "1      2021-09-03  6sp02aeyiwfX35xRqwNiPv            21                178   \n",
       "2      2021-09-03  6sp02aeyiwfX35xRqwNiPv            21                178   \n",
       "3      2021-09-03  6sp02aeyiwfX35xRqwNiPv            21                178   \n",
       "4      2021-09-03  6sp02aeyiwfX35xRqwNiPv            21                178   \n",
       "...           ...                     ...           ...                ...   \n",
       "4092   2013-03-22  2EZ3h6cM5eC65qSHCghdIZ            14                151   \n",
       "4093   2013-03-22  2EZ3h6cM5eC65qSHCghdIZ            14                151   \n",
       "4094   2013-03-22  2EZ3h6cM5eC65qSHCghdIZ            14                151   \n",
       "4095   2013-03-22  2EZ3h6cM5eC65qSHCghdIZ            14                151   \n",
       "4096   2013-03-22  2EZ3h6cM5eC65qSHCghdIZ            14                151   \n",
       "\n",
       "     Album Type  Track Popularity  \n",
       "0         album                50  \n",
       "1         album                45  \n",
       "2         album                55  \n",
       "3         album                45  \n",
       "4         album                45  \n",
       "...         ...               ...  \n",
       "4092      album                17  \n",
       "4093      album                34  \n",
       "4094      album                24  \n",
       "4095      album                14  \n",
       "4096      album                16  \n",
       "\n",
       "[4097 rows x 14 columns]"
      ]
     },
     "execution_count": 8,
     "metadata": {},
     "output_type": "execute_result"
    }
   ],
   "source": [
    "df = pd.DataFrame(my_dictionary)\n",
    "df"
   ]
  },
  {
   "cell_type": "code",
   "execution_count": 9,
   "metadata": {
    "colab": {
     "base_uri": "https://localhost:8080/",
     "height": 294
    },
    "id": "27_oVIpwoRau",
    "outputId": "cbd5416d-0a9f-4d46-c59f-9943c9da2ed3"
   },
   "outputs": [
    {
     "data": {
      "text/html": [
       "<div>\n",
       "<style scoped>\n",
       "    .dataframe tbody tr th:only-of-type {\n",
       "        vertical-align: middle;\n",
       "    }\n",
       "\n",
       "    .dataframe tbody tr th {\n",
       "        vertical-align: top;\n",
       "    }\n",
       "\n",
       "    .dataframe thead th {\n",
       "        text-align: right;\n",
       "    }\n",
       "</style>\n",
       "<table border=\"1\" class=\"dataframe\">\n",
       "  <thead>\n",
       "    <tr style=\"text-align: right;\">\n",
       "      <th></th>\n",
       "      <th>Track Duration (sec)</th>\n",
       "      <th>Artist Popularity</th>\n",
       "      <th>Total Tracks</th>\n",
       "      <th>Available Markets</th>\n",
       "      <th>Track Popularity</th>\n",
       "    </tr>\n",
       "  </thead>\n",
       "  <tbody>\n",
       "    <tr>\n",
       "      <th>count</th>\n",
       "      <td>4097.000000</td>\n",
       "      <td>4097.000000</td>\n",
       "      <td>4097.000000</td>\n",
       "      <td>4097.000000</td>\n",
       "      <td>4097.000000</td>\n",
       "    </tr>\n",
       "    <tr>\n",
       "      <th>mean</th>\n",
       "      <td>206088.758604</td>\n",
       "      <td>91.184525</td>\n",
       "      <td>17.725165</td>\n",
       "      <td>158.264096</td>\n",
       "      <td>47.253600</td>\n",
       "    </tr>\n",
       "    <tr>\n",
       "      <th>std</th>\n",
       "      <td>61748.604870</td>\n",
       "      <td>4.781212</td>\n",
       "      <td>7.537221</td>\n",
       "      <td>51.058240</td>\n",
       "      <td>20.250757</td>\n",
       "    </tr>\n",
       "    <tr>\n",
       "      <th>min</th>\n",
       "      <td>13578.000000</td>\n",
       "      <td>79.000000</td>\n",
       "      <td>1.000000</td>\n",
       "      <td>1.000000</td>\n",
       "      <td>0.000000</td>\n",
       "    </tr>\n",
       "    <tr>\n",
       "      <th>25%</th>\n",
       "      <td>171891.000000</td>\n",
       "      <td>89.000000</td>\n",
       "      <td>13.000000</td>\n",
       "      <td>174.000000</td>\n",
       "      <td>35.000000</td>\n",
       "    </tr>\n",
       "    <tr>\n",
       "      <th>50%</th>\n",
       "      <td>201615.000000</td>\n",
       "      <td>92.000000</td>\n",
       "      <td>17.000000</td>\n",
       "      <td>178.000000</td>\n",
       "      <td>50.000000</td>\n",
       "    </tr>\n",
       "    <tr>\n",
       "      <th>75%</th>\n",
       "      <td>236413.000000</td>\n",
       "      <td>95.000000</td>\n",
       "      <td>22.000000</td>\n",
       "      <td>178.000000</td>\n",
       "      <td>63.000000</td>\n",
       "    </tr>\n",
       "    <tr>\n",
       "      <th>max</th>\n",
       "      <td>875306.000000</td>\n",
       "      <td>100.000000</td>\n",
       "      <td>53.000000</td>\n",
       "      <td>178.000000</td>\n",
       "      <td>99.000000</td>\n",
       "    </tr>\n",
       "  </tbody>\n",
       "</table>\n",
       "</div>"
      ],
      "text/plain": [
       "       Track Duration (sec)  Artist Popularity  Total Tracks  \\\n",
       "count           4097.000000        4097.000000   4097.000000   \n",
       "mean          206088.758604          91.184525     17.725165   \n",
       "std            61748.604870           4.781212      7.537221   \n",
       "min            13578.000000          79.000000      1.000000   \n",
       "25%           171891.000000          89.000000     13.000000   \n",
       "50%           201615.000000          92.000000     17.000000   \n",
       "75%           236413.000000          95.000000     22.000000   \n",
       "max           875306.000000         100.000000     53.000000   \n",
       "\n",
       "       Available Markets  Track Popularity  \n",
       "count        4097.000000       4097.000000  \n",
       "mean          158.264096         47.253600  \n",
       "std            51.058240         20.250757  \n",
       "min             1.000000          0.000000  \n",
       "25%           174.000000         35.000000  \n",
       "50%           178.000000         50.000000  \n",
       "75%           178.000000         63.000000  \n",
       "max           178.000000         99.000000  "
      ]
     },
     "execution_count": 9,
     "metadata": {},
     "output_type": "execute_result"
    }
   ],
   "source": [
    "df.describe()"
   ]
  },
  {
   "cell_type": "markdown",
   "metadata": {},
   "source": [
    "## **PART 2: STORING PANDAS DATAFRAME ON POSTGRESQL DATABASE**"
   ]
  },
  {
   "cell_type": "code",
   "execution_count": 10,
   "id": "c3886aa0",
   "metadata": {},
   "outputs": [],
   "source": [
    "import psycopg2 as ps\n",
    "import pandas as pd"
   ]
  },
  {
   "cell_type": "markdown",
   "id": "01c36894",
   "metadata": {},
   "source": [
    "**CONNECT TO DATABASE**"
   ]
  },
  {
   "cell_type": "code",
   "execution_count": 11,
   "id": "09e6dd02",
   "metadata": {},
   "outputs": [],
   "source": [
    "host_name = 'localhost'\n",
    "dbname = 'spotify_tracks'\n",
    "port = '5432'\n",
    "username = 'postgres' \n",
    "password = 'password'\n",
    "conn = None"
   ]
  },
  {
   "cell_type": "code",
   "execution_count": 12,
   "id": "c5cdda62",
   "metadata": {},
   "outputs": [],
   "source": [
    "def connect_to_db(host_name, dbname, port, username, password):\n",
    "    try:\n",
    "        conn = ps.connect(host=host_name, database=dbname, user=username, password=password, port=port)\n",
    "\n",
    "    except ps.OperationalError as e:\n",
    "        raise e\n",
    "    else:\n",
    "        print('Connected!')\n",
    "        return conn"
   ]
  },
  {
   "cell_type": "code",
   "execution_count": 13,
   "id": "dfaffdc8",
   "metadata": {},
   "outputs": [
    {
     "name": "stdout",
     "output_type": "stream",
     "text": [
      "Connected!\n"
     ]
    }
   ],
   "source": [
    "conn = connect_to_db(host_name, dbname,port, username, password)"
   ]
  },
  {
   "cell_type": "code",
   "execution_count": 14,
   "id": "36da060d",
   "metadata": {},
   "outputs": [],
   "source": [
    "curr = conn.cursor()"
   ]
  },
  {
   "cell_type": "markdown",
   "id": "c797ec9d",
   "metadata": {},
   "source": [
    "**CREATE TABLE**"
   ]
  },
  {
   "cell_type": "code",
   "execution_count": 15,
   "id": "e6893bd8",
   "metadata": {},
   "outputs": [],
   "source": [
    "def create_table(curr):\n",
    "    create_table_command = (\"\"\"CREATE TABLE IF NOT EXISTS tracks (\n",
    "                    track_id VARCHAR(255) PRIMARY KEY,\n",
    "                    track_title VARCHAR(255) NOT NULL,\n",
    "                    track_duration_sec NUMERIC NOT NULL,\n",
    "                    artist VARCHAR(255) NOT NULL,\n",
    "                    artist_id VARCHAR(255) NOT NULL,\n",
    "                    genre VARCHAR(255) NOT NULL,\n",
    "                    artist_popularity INTEGER NOT NULL,\n",
    "                    album_name VARCHAR(255) NOT NULL,\n",
    "                    release_date VARCHAR(50) NOT NULL,\n",
    "                    album_id VARCHAR(255) NOT NULL,\n",
    "                    total_tracks INTEGER NOT NULL,\n",
    "                    available_markets INTEGER NOT NULL,\n",
    "                    album_type VARCHAR(255) NOT NULL,\n",
    "                    track_popularity INTEGER NOT NULL\n",
    "            )\"\"\")\n",
    "    curr.execute(create_table_command)"
   ]
  },
  {
   "cell_type": "code",
   "execution_count": 16,
   "id": "7ea3615e",
   "metadata": {},
   "outputs": [],
   "source": [
    "create_table(curr)"
   ]
  },
  {
   "cell_type": "code",
   "execution_count": 17,
   "id": "c78e7f9d",
   "metadata": {},
   "outputs": [],
   "source": [
    "conn.commit()"
   ]
  },
  {
   "cell_type": "markdown",
   "id": "07707308",
   "metadata": {},
   "source": [
    "**CHECK IF TRACK EXISTS ON DB**"
   ]
  },
  {
   "cell_type": "code",
   "execution_count": 18,
   "id": "e302803b",
   "metadata": {},
   "outputs": [],
   "source": [
    "def update_db(curr,df):\n",
    "    tmp_df = pd.DataFrame(columns=['Track Title', 'Track Duration (sec)', 'Track ID', 'Artist', 'Artist ID', \n",
    "                                   'Genre', 'Artist Popularity', 'Album Name', 'Release Date', 'Album ID', \n",
    "                                   'Total Tracks', 'Available Markets', 'Album Type','Track Popularity'])\n",
    "    for i, row in df.iterrows():\n",
    "        if check_if_track_exists_on_db(curr, row['Track ID']): # If track already exists then we will update\n",
    "            pass\n",
    "            #update_row(curr,row['Track Title'],row['Track Duration (sec)'],row['Artist'],row['Artist ID'],row['Genre'],row['Artist Popularity'],row['Album Name'],row['Release Date'],row['Album ID'],row['Total Tracks'],row['Available Markets'],row['Album Type'],row['Track Popularity'])\n",
    "        else: # The track doesn't exists so we will add it to a temp df and append it using append_from_df_to_db\n",
    "            tmp_df = tmp_df.append(row)\n",
    "\n",
    "    return tmp_df"
   ]
  },
  {
   "cell_type": "code",
   "execution_count": 19,
   "id": "ecc41b8f",
   "metadata": {},
   "outputs": [],
   "source": [
    "def check_if_track_exists_on_db(curr, Track_id): \n",
    "    query = (\"\"\"SELECT track_id FROM tracks WHERE track_id = %s\"\"\")\n",
    "\n",
    "    curr.execute(query, (Track_id,))\n",
    "    return curr.fetchone() is not None"
   ]
  },
  {
   "cell_type": "code",
   "execution_count": 20,
   "id": "85bd2f7c",
   "metadata": {},
   "outputs": [],
   "source": [
    "def update_row(curr, track_title, track_duration_sec, artist, artist_id, genre,artist_popularity, \n",
    "               album_name, release_date, album_id, total_tracks, available_markets, \n",
    "               album_type, track_popularity):\n",
    "    query = (\"\"\"UPDATE videos\n",
    "            SET Track_Title = %s,\n",
    "                Track_Duration_sec = %s,\n",
    "                Artist = %s,\n",
    "                Artist_ID = %s,\n",
    "                Genre = %s,\n",
    "                Artist_Popularity = %s,\n",
    "                Album_Name = %s,\n",
    "                Release_Date = %s,\n",
    "                Album_ID = %s,\n",
    "                Total_Tracks = %s,\n",
    "                Available_Markets = %s,\n",
    "                Album_Type = %s,\n",
    "                Track_Popularity = %s\n",
    "            WHERE video_id = %s;\"\"\")\n",
    "    vars_to_update = (track_title, track_duration_sec, artist, artist_id, genre,artist_popularity,\n",
    "                      album_name, release_date, album_id, total_tracks, available_markets, \n",
    "                      album_type, track_popularity)\n",
    "    curr.execute(query, vars_to_update)"
   ]
  },
  {
   "cell_type": "code",
   "execution_count": 21,
   "id": "376c8a37",
   "metadata": {},
   "outputs": [],
   "source": [
    "new_tracks_df = update_db(curr,df)\n",
    "conn.commit()"
   ]
  },
  {
   "cell_type": "markdown",
   "id": "c9829c82",
   "metadata": {},
   "source": [
    "**INSERT DATA INTO DATAFRAME**"
   ]
  },
  {
   "cell_type": "code",
   "execution_count": 22,
   "id": "4087921a",
   "metadata": {},
   "outputs": [],
   "source": [
    "def append_from_df_to_db(curr,df):\n",
    "    for i, row in df.iterrows():\n",
    "        insert_into_table(curr,row['Track ID'],row['Track Title'],row['Track Duration (sec)'],\n",
    "                          row['Artist'],row['Artist ID'],row['Genre'],row['Artist Popularity'],\n",
    "                          row['Album Name'],row['Release Date'],row['Album ID'],row['Total Tracks'],\n",
    "                          row['Available Markets'],row['Album Type'],row['Track Popularity'])"
   ]
  },
  {
   "cell_type": "code",
   "execution_count": 23,
   "id": "be45b5df",
   "metadata": {},
   "outputs": [],
   "source": [
    "def insert_into_table(curr, track_id, track_title, track_duration_sec, artist, artist_id, genre, \n",
    "                      artist_popularity, album_name, release_date, album_id, total_tracks, \n",
    "                      available_markets, album_type, track_popularity):\n",
    "    insert_into_tracks = (\"\"\"INSERT INTO tracks (track_id, track_title,track_duration_sec,\n",
    "    artist,artist_id,genre, artist_popularity,album_name,release_date,album_id,total_tracks,\n",
    "    available_markets,album_type,track_popularity)\n",
    "    VALUES(%s,%s,%s,%s,%s,%s,%s,%s,%s,%s,%s,%s,%s,%s)\n",
    "    ON CONFLICT (track_id)\n",
    "    DO NOTHING;\"\"\")\n",
    "    row_to_insert = (track_id, track_title, track_duration_sec, artist, artist_id, \n",
    "                     genre, artist_popularity, album_name, release_date, album_id, \n",
    "                     total_tracks, available_markets, album_type, track_popularity)\n",
    "    curr.execute(insert_into_tracks, row_to_insert)"
   ]
  },
  {
   "cell_type": "code",
   "execution_count": 24,
   "id": "5e91abd7",
   "metadata": {},
   "outputs": [],
   "source": [
    "append_from_df_to_db(curr, new_tracks_df)\n",
    "conn.commit()"
   ]
  }
 ],
 "metadata": {
  "colab": {
   "collapsed_sections": [],
   "name": "Spotify API Call.ipynb",
   "provenance": []
  },
  "kernelspec": {
   "display_name": "Python 3",
   "language": "python",
   "name": "python3"
  },
  "language_info": {
   "codemirror_mode": {
    "name": "ipython",
    "version": 3
   },
   "file_extension": ".py",
   "mimetype": "text/x-python",
   "name": "python",
   "nbconvert_exporter": "python",
   "pygments_lexer": "ipython3",
   "version": "3.8.8"
  }
 },
 "nbformat": 4,
 "nbformat_minor": 1
}
