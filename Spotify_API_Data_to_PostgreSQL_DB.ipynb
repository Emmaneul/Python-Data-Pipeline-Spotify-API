{
 "cells": [
  {
   "cell_type": "markdown",
   "id": "6b3945de",
   "metadata": {},
   "source": [
    "## **INTRODUCTION**"
   ]
  },
  {
   "cell_type": "markdown",
   "id": "90e65a16",
   "metadata": {},
   "source": [
    "The purpose of this notebook is to use Python to build a data Pipeline. The data will be sourced from the Spotify API and assembled into a Pandas dataframe which will then be stored into a PostgreSQL database. The resultant of this exercise will be a series of highly informative Python visualizations that will be used to track the different KPI's of our data. \n",
    "\n",
    "Spotify is a music/podcast streaming platform containing numerous artists with their respective albums and tracks. Each artist and track has a popularity rating and this exercise is centered around analysing the factors affecting this measure."
   ]
  },
  {
   "cell_type": "markdown",
   "id": "02b39ed4",
   "metadata": {},
   "source": [
    "## **PART 1: Make Spotify API Call**"
   ]
  },
  {
   "cell_type": "markdown",
   "id": "2f120795",
   "metadata": {},
   "source": [
    "**IMPORT LIBRARIES**"
   ]
  },
  {
   "cell_type": "code",
   "execution_count": 1,
   "id": "132ad65e",
   "metadata": {},
   "outputs": [],
   "source": [
    "#import libraries\n",
    "import requests\n",
    "import numpy as np\n",
    "import pandas as pd\n",
    "import psycopg2 as ps\n",
    "import datetime\n",
    "import base64\n",
    "import time"
   ]
  },
  {
   "cell_type": "markdown",
   "id": "f6472f22",
   "metadata": {},
   "source": [
    "**AUTHENTICATION**"
   ]
  },
  {
   "cell_type": "code",
   "execution_count": 2,
   "id": "142e829e",
   "metadata": {},
   "outputs": [],
   "source": [
    "def authentication():\n",
    "    \n",
    "    ############ CLIENT ID AND CLIENT SECRET ################\n",
    "    \n",
    "    client_id = '65c95b1fcf354742978c546b96be30c3'\n",
    "    client_secret = 'd83aca0f5c5542b1a2615b7c83fea2e7'\n",
    "    client_creds = f\"{client_id}:{client_secret}\"\n",
    "    client_creds_b64 = base64.b64encode(client_creds.encode())\n",
    "    \n",
    "    ############## API CALL PARAMETERS ######################\n",
    "    \n",
    "    auth_url = 'https://accounts.spotify.com/api/token'\n",
    "    auth_data = {\n",
    "        'grant_type': 'client_credentials'\n",
    "    }\n",
    "    auth_headers = {\n",
    "        'Authorization': f'Basic {client_creds_b64.decode()}'\n",
    "    }\n",
    "    \n",
    "    ############ API CALL ###################################\n",
    "    \n",
    "    r = requests.post(auth_url, data=auth_data, headers=auth_headers)\n",
    "    request_status = r.status_code in range(200,299)\n",
    "    \n",
    "    ########################################################\n",
    "    \n",
    "    if request_status == True:\n",
    "        auth_response = r.json()\n",
    "        now = datetime.datetime.now()\n",
    "        access_token = auth_response['access_token']\n",
    "        expires_in = auth_response['expires_in']\n",
    "        expires = now + datetime.timedelta(seconds=expires_in)\n",
    "        \n",
    "    return access_token, expires"
   ]
  },
  {
   "cell_type": "code",
   "execution_count": 3,
   "id": "88c8de7b",
   "metadata": {},
   "outputs": [
    {
     "name": "stdout",
     "output_type": "stream",
     "text": [
      "BQAmP8VmiZNsF3joPqcIyPOTY7c8mMCoWpTzA8osLOMQW-kqg0cb0o93Tn8LQALwTkMwy9pBgO-9bw0xfMM14zu9NpZDK9HOHeDuv8gAu6zsibYtjac\n"
     ]
    }
   ],
   "source": [
    "token, expires = authentication()\n",
    "print(token)"
   ]
  },
  {
   "cell_type": "markdown",
   "id": "22e7f988",
   "metadata": {},
   "source": [
    "**ARTISTS**"
   ]
  },
  {
   "cell_type": "code",
   "execution_count": 4,
   "id": "c142768a",
   "metadata": {},
   "outputs": [
    {
     "data": {
      "text/plain": [
       "100"
      ]
     },
     "execution_count": 4,
     "metadata": {},
     "output_type": "execute_result"
    }
   ],
   "source": [
    "artist_list = ['drake','young thug','adele','taylor swift','kanye west','mac miller','juice wrld','doja cat','lil baby','the weeknd','morgan wallen','j. cole','rod wave','billie eilish','dababy','pop smoke','future','eminem','bad bunny','rod wave','billie eilish','ariana grande','luke combs','roddy ricch','travis scott','Xxxtentacion','justin bieber','gunna','lil wayne','polo g','chris brown','morgan wallen','megan thee stallion','khalid','the beatles','moneybagg yo','harry styles','ed sheeran','kevin gates','bts','halsey','lil durk','kendrick lamar','jason aldean','beyonce','rihanna','ynw melly','kodak black','nf','tory lanez','maroon 5','lil peep','kane brown','dua lipa','luke bryan','imagine dragons','nle choppa','lady gaga','summer walker','21 savage','cardi b','queen','thomas rhett','florida georgia line','meek mill','lewis capaldi','frank ocean','fleetwood mac','nicki minaj','machine gun kelly','sam smith','one direction','blackbear','bruno mars','chris stapleton','blake shelton','lil tjay','migos','jack harlow',\n",
    "'russ','j. balvin','shawn mendes','lil mosey','sam hunt','kehlani','tyler, the creator','twenty one pilots','kid cudi','logic','kenny chesney','don toliver','selena gomez','dj khaled','ozuna','marshmello','wiz khalifa','frank sinatra','nav','eagles','george strait']\n",
    "len(artist_list)"
   ]
  },
  {
   "cell_type": "code",
   "execution_count": 5,
   "id": "8ed72f6c",
   "metadata": {},
   "outputs": [],
   "source": [
    "artists = artist_list"
   ]
  },
  {
   "cell_type": "markdown",
   "id": "64980936",
   "metadata": {},
   "source": [
    "**MAIN API CALL CLASS**"
   ]
  },
  {
   "cell_type": "code",
   "execution_count": 6,
   "id": "bbb64cf0",
   "metadata": {},
   "outputs": [],
   "source": [
    "class Artist_breakdown():\n",
    "\n",
    "  def __init__(self, artist_name, token):\n",
    "    self.artist_name = artist_name\n",
    "    self.token = token\n",
    "    self.artist_json_file = self.artist_search()\n",
    "    self.genre = self.artist_json_info()[0]\n",
    "    self.artist_id = self.artist_json_info()[1]\n",
    "    self.artist_name = self.artist_json_info()[2]\n",
    "    self.artist_popularity = self.artist_json_info()[3]\n",
    "\n",
    "    self.album_json_file = self.album_search()\n",
    "    self.album_type = self.album_info()[0]\n",
    "    self.total_tracks = self.album_info()[1]\n",
    "    self.release_date = self.album_info()[2]\n",
    "    self.album_id = self.album_info()[3]\n",
    "    self.available_markets = self.album_info()[4]\n",
    "    self.album_name = self.album_info()[5]\n",
    "\n",
    "    #self.track_json_file = self.track_search() ####\n",
    "    self.duration_ms = [] #self.track_info()[1]\n",
    "    self.track_id = [] #self.track_info()[2]\n",
    "    self.track_title = self.track_info()[0]\n",
    "\n",
    "    #self.track_deep_json_file = self.track_deep_search() ####\n",
    "    self.track_popularity = self.track_deep_info()\n",
    "\n",
    "  def artist_search(self):  \n",
    "    print(self.artist_name)\n",
    "    token_url = 'https://api.spotify.com/v1/search'\n",
    "    query = {'q': self.artist_name,'type':'artist'}\n",
    "    authorization = {'Authorization': f'Bearer {self.token}'}\n",
    "    time.sleep(0.3)\n",
    "    artist_response = requests.get(token_url, params = query, headers = authorization).json()\n",
    "    return artist_response\n",
    "\n",
    "  def artist_json_info(self):\n",
    "    artist_search_response = self.artist_json_file\n",
    "    genre = artist_search_response['artists']['items'][0]['genres'][0]\n",
    "    artist_id = artist_search_response['artists']['items'][0]['id']\n",
    "    artist_name = artist_search_response['artists']['items'][0]['name']\n",
    "    artist_popularity = artist_search_response['artists']['items'][0]['popularity']\n",
    "    return genre,artist_id,artist_name,artist_popularity\n",
    "\n",
    "  def album_search(self):\n",
    "    token_url = f'https://api.spotify.com/v1/artists/{self.artist_id}/albums'\n",
    "    query = {'id':self.artist_id}\n",
    "    authorization = {'Authorization': f'Bearer {self.token}'}\n",
    "    time.sleep(0.2)\n",
    "    return requests.get(token_url, headers = authorization).json()\n",
    "\n",
    "  #create function that will loop through the json object and retrieve Album ID, Album name, Release date, Total Tracks, Type\n",
    "  def album_info(self):\n",
    "    album_search_response = self.album_json_file\n",
    "\n",
    "    album_type = [album_search_response['items'][0]['type']]\n",
    "    total_tracks = [album_search_response['items'][0]['total_tracks']]\n",
    "    release_date = [album_search_response['items'][0]['release_date']]\n",
    "    album_id = [album_search_response['items'][1]['id']]\n",
    "    available_markets = [len(album_search_response['items'][0]['available_markets'])]\n",
    "    album_name = [album_search_response['items'][0]['name']]\n",
    "\n",
    "    for item in album_search_response['items']:\n",
    "      if item['name'] != album_name[-1]:\n",
    "        album_type.append(item['type'])\n",
    "        total_tracks.append(item['total_tracks'])\n",
    "        release_date.append(item['release_date'])\n",
    "        album_id.append(item['id'])\n",
    "        available_markets.append(len(item['available_markets']))\n",
    "        album_name.append(item['name'])\n",
    "    return album_type, total_tracks, release_date, album_id, available_markets, album_name\n",
    "\n",
    "\n",
    "  def track_search(self, album_id):\n",
    "    token_url = f'https://api.spotify.com/v1/albums/{album_id}/tracks'\n",
    "    authorization = {'Authorization': f'Bearer {self.token}'}\n",
    "    time.sleep(0.2)\n",
    "    return requests.get(token_url, headers = authorization).json()\n",
    "\n",
    "  def track_info(self):\n",
    "    track_title,duration_ms,track_id = [],[],[]\n",
    "    genre, artist_id, artist_name, artist_popularity = [],[],[],[]\n",
    "    album_type, total_tracks, release_date, album_id, available_markets, album_name = [],[],[],[],[],[]\n",
    "    i = 0\n",
    "\n",
    "    for id in self.album_id:\n",
    "      response = self.track_search(id)\n",
    "      time.sleep(0.2)\n",
    "      for item in response['items']:\n",
    "        track_title.append(item['name'])\n",
    "        duration_ms.append(item['duration_ms'])\n",
    "        track_id.append(item['id'])\n",
    "\n",
    "        album_type.append(self.album_type[i])\n",
    "        total_tracks.append(self.total_tracks[i])\n",
    "        release_date.append(self.release_date[i])\n",
    "        album_id.append(self.album_id[i])\n",
    "        available_markets.append(self.available_markets[i])\n",
    "        album_name.append(self.album_name[i])\n",
    "\n",
    "      i += 1\n",
    "    self.track_id = track_id\n",
    "    self.album_type = album_type\n",
    "    self.total_tracks = total_tracks\n",
    "    self.release_date = release_date\n",
    "    self.album_id = album_id\n",
    "    self.available_markets = available_markets\n",
    "    self.album_name = album_name\n",
    "\n",
    "    self.genre = [self.genre] * len(self.track_id)\n",
    "    self.artist_id = [self.artist_id] * len(self.track_id)\n",
    "    self.artist_name = [self.artist_name] * len(self.track_id)\n",
    "    self.artist_popularity = [self.artist_popularity] * len(self.track_id)\n",
    "\n",
    "    self.track_title = track_title\n",
    "    self.duration_ms = duration_ms\n",
    "    self.track_id = track_id\n",
    "    return track_title, duration_ms, track_id\n",
    "\n",
    "\n",
    "  def track_deep_search(self, track_id):\n",
    "    token_url = f'https://api.spotify.com/v1/tracks/{track_id}'\n",
    "    authorization = {'Authorization': f'Bearer {self.token}'}\n",
    "    return requests.get(token_url, headers = authorization).json()\n",
    "\n",
    "  def track_deep_info(self):\n",
    "    popularity = []\n",
    "    for id in self.track_id:\n",
    "        response = self.track_deep_search(id)\n",
    "        try:\n",
    "            popularity.append(response['popularity'])\n",
    "            time.sleep(0.2)\n",
    "        except:\n",
    "            popularity.append(50)\n",
    "        else:\n",
    "            pass\n",
    "    self.track_popularity = popularity\n",
    "    return popularity"
   ]
  },
  {
   "cell_type": "code",
   "execution_count": 7,
   "id": "3c2ec8e1",
   "metadata": {},
   "outputs": [],
   "source": [
    "a,b,n,c,d,e,f,g,h,i,j,k,l,m = [],[],[],[],[],[],[],[],[],[],[],[],[],[]"
   ]
  },
  {
   "cell_type": "code",
   "execution_count": 8,
   "id": "fed163ef",
   "metadata": {},
   "outputs": [
    {
     "data": {
      "text/plain": [
       "['drake']"
      ]
     },
     "execution_count": 8,
     "metadata": {},
     "output_type": "execute_result"
    }
   ],
   "source": [
    "artists[0:1]"
   ]
  },
  {
   "cell_type": "code",
   "execution_count": 9,
   "id": "c23f6efc",
   "metadata": {},
   "outputs": [
    {
     "name": "stdout",
     "output_type": "stream",
     "text": [
      "drake\n"
     ]
    }
   ],
   "source": [
    "for artist in artists[0:1]:\n",
    "    if expires <= datetime.datetime.now():\n",
    "        token, expires = authentication()\n",
    "        artist_info = Artist_breakdown(artist, token)\n",
    "        a += artist_info.track_title\n",
    "        b += artist_info.duration_ms\n",
    "        n += artist_info.track_id\n",
    "        c += artist_info.artist_name\n",
    "        d += artist_info.artist_id\n",
    "        e += artist_info.genre\n",
    "        f += artist_info.artist_popularity\n",
    "        g += artist_info.album_name\n",
    "        h += artist_info.release_date\n",
    "        i += artist_info.album_id\n",
    "        j += artist_info.total_tracks\n",
    "        k += artist_info.available_markets\n",
    "        l += artist_info.album_type\n",
    "        m += artist_info.track_popularity\n",
    "    else:\n",
    "        artist_info = Artist_breakdown(artist, token)\n",
    "        a += artist_info.track_title\n",
    "        b += artist_info.duration_ms\n",
    "        n += artist_info.track_id\n",
    "        c += artist_info.artist_name\n",
    "        d += artist_info.artist_id\n",
    "        e += artist_info.genre\n",
    "        f += artist_info.artist_popularity\n",
    "        g += artist_info.album_name\n",
    "        h += artist_info.release_date\n",
    "        i += artist_info.album_id\n",
    "        j += artist_info.total_tracks\n",
    "        k += artist_info.available_markets\n",
    "        l += artist_info.album_type\n",
    "        m += artist_info.track_popularity\n",
    "my_dictionary = {'Track Title':a, 'Track Duration (sec)':b, 'Track ID': n,\n",
    "                 'Artist':c, 'Artist ID':d, 'Genre':e,\n",
    "                 'Artist Popularity':f, 'Album Name':g,\n",
    "                 'Release Date':h,'Album ID':i, 'Total Tracks':j,\n",
    "                 'Available Markets':k,'Album Type':l,'Track Popularity':m}"
   ]
  },
  {
   "cell_type": "code",
   "execution_count": 10,
   "id": "d478727a",
   "metadata": {},
   "outputs": [
    {
     "data": {
      "text/plain": [
       "['Intro',\n",
       " 'Falling Back',\n",
       " 'Texts Go Green',\n",
       " 'Currents',\n",
       " 'A Keeper',\n",
       " 'Calling My Name',\n",
       " 'Sticky',\n",
       " 'Massive',\n",
       " \"Flight's Booked\",\n",
       " 'Overdrive',\n",
       " 'Down Hill',\n",
       " 'Tie That Binds',\n",
       " 'Liability',\n",
       " 'Jimmy Cooks (feat. 21 Savage)',\n",
       " 'Champagne Poetry',\n",
       " 'Papi’s Home',\n",
       " 'Girls Want Girls (with Lil Baby)',\n",
       " 'In The Bible (with Lil Durk & Giveon)',\n",
       " 'Love All (with JAY-Z)',\n",
       " 'Fair Trade (with Travis Scott)',\n",
       " 'Way 2 Sexy (with Future & Young Thug)',\n",
       " 'TSU',\n",
       " 'N 2 Deep',\n",
       " 'Pipe Down',\n",
       " 'Yebba’s Heartbreak',\n",
       " 'No Friends In The Industry',\n",
       " 'Knife Talk (with 21 Savage ft. Project Pat)',\n",
       " '7am On Bridle Path',\n",
       " 'Race My Mind',\n",
       " 'Fountains (with Tems)',\n",
       " 'Get Along Better',\n",
       " 'You Only Live Twice (with Lil Wayne & Rick Ross)',\n",
       " 'IMY2 (with Kid Cudi)',\n",
       " 'F*****g Fans',\n",
       " 'Deep Pockets',\n",
       " 'When To Say When',\n",
       " 'Chicago Freestyle (feat. Giveon)',\n",
       " 'Not You Too (feat. Chris Brown)',\n",
       " 'Toosie Slide',\n",
       " 'Desires (with Future)',\n",
       " 'Time Flies',\n",
       " 'Landed',\n",
       " 'D4L',\n",
       " 'Pain 1993 (with Playboi Carti)',\n",
       " 'Losses',\n",
       " 'From Florida With Love',\n",
       " 'Demons (feat. Fivio Foreign & Sosa Geek)',\n",
       " 'War',\n",
       " 'Dreams Money Can Buy',\n",
       " 'The Motion',\n",
       " 'How Bout Now',\n",
       " 'Trust Issues',\n",
       " 'Days in The East',\n",
       " 'Draft Day',\n",
       " '4pm in Calabasas',\n",
       " '5 Am in Toronto',\n",
       " 'I Get Lonely',\n",
       " 'My Side',\n",
       " 'Jodeci Freestyle (feat. J. Cole)',\n",
       " 'Club Paradise',\n",
       " 'Free Spirit (feat. Rick Ross)',\n",
       " 'Heat Of The Moment',\n",
       " 'Girls Love Beyoncé (feat. James Fauntleroy)',\n",
       " 'Paris Morton Music',\n",
       " 'Can I',\n",
       " 'Lust For Life',\n",
       " 'Houstatlantavegas',\n",
       " 'Successful (feat. Trey Songz & Lil Wayne)',\n",
       " 'Let’s Call It Off (feat. Peter Bjorn and John)',\n",
       " 'November 18th',\n",
       " 'Ignant Shit (feat. Lil Wayne)',\n",
       " 'A Night Off (feat. Lloyd)',\n",
       " \"Say What's Real\",\n",
       " 'Little Bit (feat. Lykke Li)',\n",
       " 'Best I Ever Had',\n",
       " 'Unstoppable (feat. Santigold & Lil Wayne)',\n",
       " 'Uptown (feat. Bun B & Lil Wayne)',\n",
       " 'Sooner Than Later',\n",
       " \"Bria's Interlude (feat. Omarion)\",\n",
       " 'The Calm',\n",
       " 'Outro (feat. Chilly Gonzales)',\n",
       " 'Brand New',\n",
       " 'Congratulations',\n",
       " 'Survival',\n",
       " 'Nonstop',\n",
       " 'Elevate',\n",
       " 'Emotionless',\n",
       " \"God's Plan\",\n",
       " \"I'm Upset\",\n",
       " '8 Out Of 10',\n",
       " 'Mob Ties',\n",
       " 'Can’t Take A Joke',\n",
       " 'Sandra’s Rose',\n",
       " 'Talk Up (feat. Jay-Z)',\n",
       " 'Is There More',\n",
       " 'Peak',\n",
       " 'Summer Games',\n",
       " 'Jaded',\n",
       " 'Nice For What',\n",
       " 'Finesse',\n",
       " 'Ratchet Happy Birthday',\n",
       " 'That’s How You Feel',\n",
       " 'Blue Tint',\n",
       " 'Free Smoke',\n",
       " 'No Long Talk',\n",
       " 'Passionfruit',\n",
       " 'Jorja Interlude',\n",
       " 'Get It Together',\n",
       " 'Madiba Riddim',\n",
       " 'Blem',\n",
       " '4422',\n",
       " 'Gyalchester',\n",
       " 'Skepta Interlude',\n",
       " 'Portland',\n",
       " 'Sacrifices',\n",
       " 'Nothings Into Somethings',\n",
       " 'Teenage Fever',\n",
       " 'KMT',\n",
       " 'Lose You',\n",
       " \"Can't Have Everything\",\n",
       " 'Glow',\n",
       " 'Since Way Back',\n",
       " 'Fake Love',\n",
       " 'Keep The Family Close',\n",
       " '9',\n",
       " 'U With Me?',\n",
       " 'Feel No Ways',\n",
       " 'Hype',\n",
       " 'Weston Road Flows',\n",
       " 'Redemption',\n",
       " 'With You',\n",
       " 'Faithful',\n",
       " 'Still Here',\n",
       " 'Controlla',\n",
       " 'One Dance',\n",
       " 'Grammys',\n",
       " 'Childs Play',\n",
       " 'Pop Style',\n",
       " 'Too Good',\n",
       " 'Summers Over Interlude',\n",
       " 'Fire & Desire',\n",
       " 'Views',\n",
       " 'Hotline Bling',\n",
       " 'Digital Dash',\n",
       " 'Big Rings',\n",
       " 'Live From The Gutter',\n",
       " 'Diamonds Dancing',\n",
       " 'Scholarships',\n",
       " 'Plastic Bag',\n",
       " \"I'm The Plug\",\n",
       " 'Change Locations',\n",
       " 'Jumpman',\n",
       " 'Jersey',\n",
       " '30 for 30 Freestyle',\n",
       " 'Legend',\n",
       " 'Energy',\n",
       " '10 Bands',\n",
       " 'Know Yourself',\n",
       " \"No Tellin'\",\n",
       " 'Madonna',\n",
       " '6 God',\n",
       " 'Star67',\n",
       " 'Preach',\n",
       " 'Wednesday Night Interlude',\n",
       " 'Used To',\n",
       " '6 Man',\n",
       " 'Now & Forever',\n",
       " 'Company',\n",
       " 'You & The 6',\n",
       " 'Jungle',\n",
       " '6PM In New York',\n",
       " 'Tuscan Leather',\n",
       " 'Furthest Thing',\n",
       " 'Started From the Bottom',\n",
       " 'Wu-Tang Forever',\n",
       " 'Own It',\n",
       " 'Worst Behavior',\n",
       " 'From Time',\n",
       " \"Hold On, We're Going Home\",\n",
       " 'Connect',\n",
       " 'The Language',\n",
       " '305 To My City',\n",
       " 'Too Much',\n",
       " 'Pound Cake / Paris Morton Music 2',\n",
       " 'Come Thru',\n",
       " 'All Me',\n",
       " 'The Motion']"
      ]
     },
     "execution_count": 10,
     "metadata": {},
     "output_type": "execute_result"
    }
   ],
   "source": [
    "a"
   ]
  },
  {
   "cell_type": "markdown",
   "id": "68f87384",
   "metadata": {},
   "source": [
    "**DATAFRAME**"
   ]
  },
  {
   "cell_type": "code",
   "execution_count": 11,
   "id": "433e5c54",
   "metadata": {},
   "outputs": [
    {
     "data": {
      "text/html": [
       "<div>\n",
       "<style scoped>\n",
       "    .dataframe tbody tr th:only-of-type {\n",
       "        vertical-align: middle;\n",
       "    }\n",
       "\n",
       "    .dataframe tbody tr th {\n",
       "        vertical-align: top;\n",
       "    }\n",
       "\n",
       "    .dataframe thead th {\n",
       "        text-align: right;\n",
       "    }\n",
       "</style>\n",
       "<table border=\"1\" class=\"dataframe\">\n",
       "  <thead>\n",
       "    <tr style=\"text-align: right;\">\n",
       "      <th></th>\n",
       "      <th>Track Title</th>\n",
       "      <th>Track Duration (sec)</th>\n",
       "      <th>Track ID</th>\n",
       "      <th>Artist</th>\n",
       "      <th>Artist ID</th>\n",
       "      <th>Genre</th>\n",
       "      <th>Artist Popularity</th>\n",
       "      <th>Album Name</th>\n",
       "      <th>Release Date</th>\n",
       "      <th>Album ID</th>\n",
       "      <th>Total Tracks</th>\n",
       "      <th>Available Markets</th>\n",
       "      <th>Album Type</th>\n",
       "      <th>Track Popularity</th>\n",
       "    </tr>\n",
       "  </thead>\n",
       "  <tbody>\n",
       "    <tr>\n",
       "      <th>0</th>\n",
       "      <td>Intro</td>\n",
       "      <td>36935</td>\n",
       "      <td>5lVmzrKaqPpPYtF7udoiNq</td>\n",
       "      <td>Drake</td>\n",
       "      <td>3TVXtAsR1Inumwj472S9r4</td>\n",
       "      <td>canadian hip hop</td>\n",
       "      <td>94</td>\n",
       "      <td>Honestly, Nevermind</td>\n",
       "      <td>2022-06-17</td>\n",
       "      <td>2hicq6IKmDsPxZV7fJablX</td>\n",
       "      <td>14</td>\n",
       "      <td>182</td>\n",
       "      <td>album</td>\n",
       "      <td>70</td>\n",
       "    </tr>\n",
       "    <tr>\n",
       "      <th>1</th>\n",
       "      <td>Falling Back</td>\n",
       "      <td>266178</td>\n",
       "      <td>5zyZM1EiSqrniyqtprwxpv</td>\n",
       "      <td>Drake</td>\n",
       "      <td>3TVXtAsR1Inumwj472S9r4</td>\n",
       "      <td>canadian hip hop</td>\n",
       "      <td>94</td>\n",
       "      <td>Honestly, Nevermind</td>\n",
       "      <td>2022-06-17</td>\n",
       "      <td>2hicq6IKmDsPxZV7fJablX</td>\n",
       "      <td>14</td>\n",
       "      <td>182</td>\n",
       "      <td>album</td>\n",
       "      <td>73</td>\n",
       "    </tr>\n",
       "    <tr>\n",
       "      <th>2</th>\n",
       "      <td>Texts Go Green</td>\n",
       "      <td>308820</td>\n",
       "      <td>7a5fliY9SsZENrQWQBZron</td>\n",
       "      <td>Drake</td>\n",
       "      <td>3TVXtAsR1Inumwj472S9r4</td>\n",
       "      <td>canadian hip hop</td>\n",
       "      <td>94</td>\n",
       "      <td>Honestly, Nevermind</td>\n",
       "      <td>2022-06-17</td>\n",
       "      <td>2hicq6IKmDsPxZV7fJablX</td>\n",
       "      <td>14</td>\n",
       "      <td>182</td>\n",
       "      <td>album</td>\n",
       "      <td>72</td>\n",
       "    </tr>\n",
       "    <tr>\n",
       "      <th>3</th>\n",
       "      <td>Currents</td>\n",
       "      <td>157390</td>\n",
       "      <td>7IaeavdRzXYQWfu2Wt5GlU</td>\n",
       "      <td>Drake</td>\n",
       "      <td>3TVXtAsR1Inumwj472S9r4</td>\n",
       "      <td>canadian hip hop</td>\n",
       "      <td>94</td>\n",
       "      <td>Honestly, Nevermind</td>\n",
       "      <td>2022-06-17</td>\n",
       "      <td>2hicq6IKmDsPxZV7fJablX</td>\n",
       "      <td>14</td>\n",
       "      <td>182</td>\n",
       "      <td>album</td>\n",
       "      <td>70</td>\n",
       "    </tr>\n",
       "    <tr>\n",
       "      <th>4</th>\n",
       "      <td>A Keeper</td>\n",
       "      <td>173097</td>\n",
       "      <td>5frM7XSby6Pj2Chs9gaKxj</td>\n",
       "      <td>Drake</td>\n",
       "      <td>3TVXtAsR1Inumwj472S9r4</td>\n",
       "      <td>canadian hip hop</td>\n",
       "      <td>94</td>\n",
       "      <td>Honestly, Nevermind</td>\n",
       "      <td>2022-06-17</td>\n",
       "      <td>2hicq6IKmDsPxZV7fJablX</td>\n",
       "      <td>14</td>\n",
       "      <td>182</td>\n",
       "      <td>album</td>\n",
       "      <td>70</td>\n",
       "    </tr>\n",
       "    <tr>\n",
       "      <th>...</th>\n",
       "      <td>...</td>\n",
       "      <td>...</td>\n",
       "      <td>...</td>\n",
       "      <td>...</td>\n",
       "      <td>...</td>\n",
       "      <td>...</td>\n",
       "      <td>...</td>\n",
       "      <td>...</td>\n",
       "      <td>...</td>\n",
       "      <td>...</td>\n",
       "      <td>...</td>\n",
       "      <td>...</td>\n",
       "      <td>...</td>\n",
       "      <td>...</td>\n",
       "    </tr>\n",
       "    <tr>\n",
       "      <th>182</th>\n",
       "      <td>Too Much</td>\n",
       "      <td>261866</td>\n",
       "      <td>5LnXWeA9tuWKI2C1H74iiJ</td>\n",
       "      <td>Drake</td>\n",
       "      <td>3TVXtAsR1Inumwj472S9r4</td>\n",
       "      <td>canadian hip hop</td>\n",
       "      <td>94</td>\n",
       "      <td>Nothing Was The Same (Deluxe)</td>\n",
       "      <td>2013-01-01</td>\n",
       "      <td>2ZUFSbIkmFkGag000RWOpA</td>\n",
       "      <td>16</td>\n",
       "      <td>176</td>\n",
       "      <td>album</td>\n",
       "      <td>60</td>\n",
       "    </tr>\n",
       "    <tr>\n",
       "      <th>183</th>\n",
       "      <td>Pound Cake / Paris Morton Music 2</td>\n",
       "      <td>433800</td>\n",
       "      <td>4RI9eX7jNcdaQOJifn7t6z</td>\n",
       "      <td>Drake</td>\n",
       "      <td>3TVXtAsR1Inumwj472S9r4</td>\n",
       "      <td>canadian hip hop</td>\n",
       "      <td>94</td>\n",
       "      <td>Nothing Was The Same (Deluxe)</td>\n",
       "      <td>2013-01-01</td>\n",
       "      <td>2ZUFSbIkmFkGag000RWOpA</td>\n",
       "      <td>16</td>\n",
       "      <td>176</td>\n",
       "      <td>album</td>\n",
       "      <td>66</td>\n",
       "    </tr>\n",
       "    <tr>\n",
       "      <th>184</th>\n",
       "      <td>Come Thru</td>\n",
       "      <td>236360</td>\n",
       "      <td>5Ggfa9cpkpfp5D6Rg0Yyw1</td>\n",
       "      <td>Drake</td>\n",
       "      <td>3TVXtAsR1Inumwj472S9r4</td>\n",
       "      <td>canadian hip hop</td>\n",
       "      <td>94</td>\n",
       "      <td>Nothing Was The Same (Deluxe)</td>\n",
       "      <td>2013-01-01</td>\n",
       "      <td>2ZUFSbIkmFkGag000RWOpA</td>\n",
       "      <td>16</td>\n",
       "      <td>176</td>\n",
       "      <td>album</td>\n",
       "      <td>57</td>\n",
       "    </tr>\n",
       "    <tr>\n",
       "      <th>185</th>\n",
       "      <td>All Me</td>\n",
       "      <td>271573</td>\n",
       "      <td>5ngydCLbzCEdtu8SEOXhPU</td>\n",
       "      <td>Drake</td>\n",
       "      <td>3TVXtAsR1Inumwj472S9r4</td>\n",
       "      <td>canadian hip hop</td>\n",
       "      <td>94</td>\n",
       "      <td>Nothing Was The Same (Deluxe)</td>\n",
       "      <td>2013-01-01</td>\n",
       "      <td>2ZUFSbIkmFkGag000RWOpA</td>\n",
       "      <td>16</td>\n",
       "      <td>176</td>\n",
       "      <td>album</td>\n",
       "      <td>60</td>\n",
       "    </tr>\n",
       "    <tr>\n",
       "      <th>186</th>\n",
       "      <td>The Motion</td>\n",
       "      <td>241000</td>\n",
       "      <td>3t8pnImpBpOwxdtYBpKvA9</td>\n",
       "      <td>Drake</td>\n",
       "      <td>3TVXtAsR1Inumwj472S9r4</td>\n",
       "      <td>canadian hip hop</td>\n",
       "      <td>94</td>\n",
       "      <td>Nothing Was The Same (Deluxe)</td>\n",
       "      <td>2013-01-01</td>\n",
       "      <td>2ZUFSbIkmFkGag000RWOpA</td>\n",
       "      <td>16</td>\n",
       "      <td>176</td>\n",
       "      <td>album</td>\n",
       "      <td>56</td>\n",
       "    </tr>\n",
       "  </tbody>\n",
       "</table>\n",
       "<p>187 rows × 14 columns</p>\n",
       "</div>"
      ],
      "text/plain": [
       "                           Track Title  Track Duration (sec)  \\\n",
       "0                                Intro                 36935   \n",
       "1                         Falling Back                266178   \n",
       "2                       Texts Go Green                308820   \n",
       "3                             Currents                157390   \n",
       "4                             A Keeper                173097   \n",
       "..                                 ...                   ...   \n",
       "182                           Too Much                261866   \n",
       "183  Pound Cake / Paris Morton Music 2                433800   \n",
       "184                          Come Thru                236360   \n",
       "185                             All Me                271573   \n",
       "186                         The Motion                241000   \n",
       "\n",
       "                   Track ID Artist               Artist ID             Genre  \\\n",
       "0    5lVmzrKaqPpPYtF7udoiNq  Drake  3TVXtAsR1Inumwj472S9r4  canadian hip hop   \n",
       "1    5zyZM1EiSqrniyqtprwxpv  Drake  3TVXtAsR1Inumwj472S9r4  canadian hip hop   \n",
       "2    7a5fliY9SsZENrQWQBZron  Drake  3TVXtAsR1Inumwj472S9r4  canadian hip hop   \n",
       "3    7IaeavdRzXYQWfu2Wt5GlU  Drake  3TVXtAsR1Inumwj472S9r4  canadian hip hop   \n",
       "4    5frM7XSby6Pj2Chs9gaKxj  Drake  3TVXtAsR1Inumwj472S9r4  canadian hip hop   \n",
       "..                      ...    ...                     ...               ...   \n",
       "182  5LnXWeA9tuWKI2C1H74iiJ  Drake  3TVXtAsR1Inumwj472S9r4  canadian hip hop   \n",
       "183  4RI9eX7jNcdaQOJifn7t6z  Drake  3TVXtAsR1Inumwj472S9r4  canadian hip hop   \n",
       "184  5Ggfa9cpkpfp5D6Rg0Yyw1  Drake  3TVXtAsR1Inumwj472S9r4  canadian hip hop   \n",
       "185  5ngydCLbzCEdtu8SEOXhPU  Drake  3TVXtAsR1Inumwj472S9r4  canadian hip hop   \n",
       "186  3t8pnImpBpOwxdtYBpKvA9  Drake  3TVXtAsR1Inumwj472S9r4  canadian hip hop   \n",
       "\n",
       "     Artist Popularity                     Album Name Release Date  \\\n",
       "0                   94            Honestly, Nevermind   2022-06-17   \n",
       "1                   94            Honestly, Nevermind   2022-06-17   \n",
       "2                   94            Honestly, Nevermind   2022-06-17   \n",
       "3                   94            Honestly, Nevermind   2022-06-17   \n",
       "4                   94            Honestly, Nevermind   2022-06-17   \n",
       "..                 ...                            ...          ...   \n",
       "182                 94  Nothing Was The Same (Deluxe)   2013-01-01   \n",
       "183                 94  Nothing Was The Same (Deluxe)   2013-01-01   \n",
       "184                 94  Nothing Was The Same (Deluxe)   2013-01-01   \n",
       "185                 94  Nothing Was The Same (Deluxe)   2013-01-01   \n",
       "186                 94  Nothing Was The Same (Deluxe)   2013-01-01   \n",
       "\n",
       "                   Album ID  Total Tracks  Available Markets Album Type  \\\n",
       "0    2hicq6IKmDsPxZV7fJablX            14                182      album   \n",
       "1    2hicq6IKmDsPxZV7fJablX            14                182      album   \n",
       "2    2hicq6IKmDsPxZV7fJablX            14                182      album   \n",
       "3    2hicq6IKmDsPxZV7fJablX            14                182      album   \n",
       "4    2hicq6IKmDsPxZV7fJablX            14                182      album   \n",
       "..                      ...           ...                ...        ...   \n",
       "182  2ZUFSbIkmFkGag000RWOpA            16                176      album   \n",
       "183  2ZUFSbIkmFkGag000RWOpA            16                176      album   \n",
       "184  2ZUFSbIkmFkGag000RWOpA            16                176      album   \n",
       "185  2ZUFSbIkmFkGag000RWOpA            16                176      album   \n",
       "186  2ZUFSbIkmFkGag000RWOpA            16                176      album   \n",
       "\n",
       "     Track Popularity  \n",
       "0                  70  \n",
       "1                  73  \n",
       "2                  72  \n",
       "3                  70  \n",
       "4                  70  \n",
       "..                ...  \n",
       "182                60  \n",
       "183                66  \n",
       "184                57  \n",
       "185                60  \n",
       "186                56  \n",
       "\n",
       "[187 rows x 14 columns]"
      ]
     },
     "execution_count": 11,
     "metadata": {},
     "output_type": "execute_result"
    }
   ],
   "source": [
    "df = pd.DataFrame(my_dictionary)\n",
    "df"
   ]
  },
  {
   "cell_type": "code",
   "execution_count": null,
   "id": "14d70cc7",
   "metadata": {},
   "outputs": [],
   "source": [
    "df.to_csv(f'Artist_API_Call_.csv', index = False, sep = '\\t')"
   ]
  },
  {
   "cell_type": "code",
   "execution_count": null,
   "id": "e04a68c7",
   "metadata": {},
   "outputs": [],
   "source": [
    "df.info()"
   ]
  },
  {
   "cell_type": "markdown",
   "id": "270927e0",
   "metadata": {},
   "source": [
    "## PART 2: Create 3 Tables\n",
    "- Artist_dataset\n",
    "- Albums_dataset\n",
    "- Tracks_dataset"
   ]
  },
  {
   "cell_type": "markdown",
   "id": "0b801f81",
   "metadata": {},
   "source": [
    "___\n",
    "\n",
    "<img src='img/model-schema_.jpg' />\n",
    "___"
   ]
  },
  {
   "cell_type": "code",
   "execution_count": null,
   "id": "72da919f",
   "metadata": {},
   "outputs": [],
   "source": [
    "dat = df.copy()"
   ]
  },
  {
   "cell_type": "code",
   "execution_count": 13,
   "id": "dd8d8157",
   "metadata": {},
   "outputs": [
    {
     "data": {
      "text/html": [
       "<div>\n",
       "<style scoped>\n",
       "    .dataframe tbody tr th:only-of-type {\n",
       "        vertical-align: middle;\n",
       "    }\n",
       "\n",
       "    .dataframe tbody tr th {\n",
       "        vertical-align: top;\n",
       "    }\n",
       "\n",
       "    .dataframe thead th {\n",
       "        text-align: right;\n",
       "    }\n",
       "</style>\n",
       "<table border=\"1\" class=\"dataframe\">\n",
       "  <thead>\n",
       "    <tr style=\"text-align: right;\">\n",
       "      <th></th>\n",
       "      <th>track_id</th>\n",
       "      <th>track_title</th>\n",
       "      <th>track_duration_sec</th>\n",
       "      <th>artist</th>\n",
       "      <th>artist_id</th>\n",
       "      <th>genre</th>\n",
       "      <th>artist_popularity</th>\n",
       "      <th>album_name</th>\n",
       "      <th>release_date</th>\n",
       "      <th>album_id</th>\n",
       "      <th>total_tracks</th>\n",
       "      <th>available_markets</th>\n",
       "      <th>album_type</th>\n",
       "      <th>track_popularity</th>\n",
       "    </tr>\n",
       "  </thead>\n",
       "  <tbody>\n",
       "    <tr>\n",
       "      <th>0</th>\n",
       "      <td>7LSINVHqMXPt4FkTgcH6bt</td>\n",
       "      <td>Champagne Poetry</td>\n",
       "      <td>336511.0</td>\n",
       "      <td>Drake</td>\n",
       "      <td>3TVXtAsR1Inumwj472S9r4</td>\n",
       "      <td>canadian hip hop</td>\n",
       "      <td>93</td>\n",
       "      <td>Certified Lover Boy</td>\n",
       "      <td>2021-09-03</td>\n",
       "      <td>6sp02aeyiwfX35xRqwNiPv</td>\n",
       "      <td>21</td>\n",
       "      <td>183</td>\n",
       "      <td>album</td>\n",
       "      <td>39</td>\n",
       "    </tr>\n",
       "    <tr>\n",
       "      <th>1</th>\n",
       "      <td>6C62fl8x0vzwxPqay8twie</td>\n",
       "      <td>Papi’s Home</td>\n",
       "      <td>178623.0</td>\n",
       "      <td>Drake</td>\n",
       "      <td>3TVXtAsR1Inumwj472S9r4</td>\n",
       "      <td>canadian hip hop</td>\n",
       "      <td>93</td>\n",
       "      <td>Certified Lover Boy</td>\n",
       "      <td>2021-09-03</td>\n",
       "      <td>6sp02aeyiwfX35xRqwNiPv</td>\n",
       "      <td>21</td>\n",
       "      <td>183</td>\n",
       "      <td>album</td>\n",
       "      <td>35</td>\n",
       "    </tr>\n",
       "    <tr>\n",
       "      <th>2</th>\n",
       "      <td>60kRxS2TC4qb2WBPmRmfv4</td>\n",
       "      <td>Girls Want Girls (with Lil Baby)</td>\n",
       "      <td>221979.0</td>\n",
       "      <td>Drake</td>\n",
       "      <td>3TVXtAsR1Inumwj472S9r4</td>\n",
       "      <td>canadian hip hop</td>\n",
       "      <td>93</td>\n",
       "      <td>Certified Lover Boy</td>\n",
       "      <td>2021-09-03</td>\n",
       "      <td>6sp02aeyiwfX35xRqwNiPv</td>\n",
       "      <td>21</td>\n",
       "      <td>183</td>\n",
       "      <td>album</td>\n",
       "      <td>49</td>\n",
       "    </tr>\n",
       "    <tr>\n",
       "      <th>3</th>\n",
       "      <td>7xXVDIulqmlBvDLFMfc3uX</td>\n",
       "      <td>In The Bible (with Lil Durk &amp; Giveon)</td>\n",
       "      <td>296568.0</td>\n",
       "      <td>Drake</td>\n",
       "      <td>3TVXtAsR1Inumwj472S9r4</td>\n",
       "      <td>canadian hip hop</td>\n",
       "      <td>93</td>\n",
       "      <td>Certified Lover Boy</td>\n",
       "      <td>2021-09-03</td>\n",
       "      <td>6sp02aeyiwfX35xRqwNiPv</td>\n",
       "      <td>21</td>\n",
       "      <td>183</td>\n",
       "      <td>album</td>\n",
       "      <td>36</td>\n",
       "    </tr>\n",
       "    <tr>\n",
       "      <th>4</th>\n",
       "      <td>7L8V5vHLo6fMbNaVI7rbhU</td>\n",
       "      <td>Love All (with JAY-Z)</td>\n",
       "      <td>228461.0</td>\n",
       "      <td>Drake</td>\n",
       "      <td>3TVXtAsR1Inumwj472S9r4</td>\n",
       "      <td>canadian hip hop</td>\n",
       "      <td>93</td>\n",
       "      <td>Certified Lover Boy</td>\n",
       "      <td>2021-09-03</td>\n",
       "      <td>6sp02aeyiwfX35xRqwNiPv</td>\n",
       "      <td>21</td>\n",
       "      <td>183</td>\n",
       "      <td>album</td>\n",
       "      <td>36</td>\n",
       "    </tr>\n",
       "  </tbody>\n",
       "</table>\n",
       "</div>"
      ],
      "text/plain": [
       "                 track_id                            track_title  \\\n",
       "0  7LSINVHqMXPt4FkTgcH6bt                       Champagne Poetry   \n",
       "1  6C62fl8x0vzwxPqay8twie                            Papi’s Home   \n",
       "2  60kRxS2TC4qb2WBPmRmfv4       Girls Want Girls (with Lil Baby)   \n",
       "3  7xXVDIulqmlBvDLFMfc3uX  In The Bible (with Lil Durk & Giveon)   \n",
       "4  7L8V5vHLo6fMbNaVI7rbhU                  Love All (with JAY-Z)   \n",
       "\n",
       "   track_duration_sec artist               artist_id             genre  \\\n",
       "0            336511.0  Drake  3TVXtAsR1Inumwj472S9r4  canadian hip hop   \n",
       "1            178623.0  Drake  3TVXtAsR1Inumwj472S9r4  canadian hip hop   \n",
       "2            221979.0  Drake  3TVXtAsR1Inumwj472S9r4  canadian hip hop   \n",
       "3            296568.0  Drake  3TVXtAsR1Inumwj472S9r4  canadian hip hop   \n",
       "4            228461.0  Drake  3TVXtAsR1Inumwj472S9r4  canadian hip hop   \n",
       "\n",
       "   artist_popularity           album_name release_date  \\\n",
       "0                 93  Certified Lover Boy   2021-09-03   \n",
       "1                 93  Certified Lover Boy   2021-09-03   \n",
       "2                 93  Certified Lover Boy   2021-09-03   \n",
       "3                 93  Certified Lover Boy   2021-09-03   \n",
       "4                 93  Certified Lover Boy   2021-09-03   \n",
       "\n",
       "                 album_id  total_tracks  available_markets album_type  \\\n",
       "0  6sp02aeyiwfX35xRqwNiPv            21                183      album   \n",
       "1  6sp02aeyiwfX35xRqwNiPv            21                183      album   \n",
       "2  6sp02aeyiwfX35xRqwNiPv            21                183      album   \n",
       "3  6sp02aeyiwfX35xRqwNiPv            21                183      album   \n",
       "4  6sp02aeyiwfX35xRqwNiPv            21                183      album   \n",
       "\n",
       "   track_popularity  \n",
       "0                39  \n",
       "1                35  \n",
       "2                49  \n",
       "3                36  \n",
       "4                36  "
      ]
     },
     "execution_count": 13,
     "metadata": {},
     "output_type": "execute_result"
    }
   ],
   "source": [
    "dat.head()"
   ]
  },
  {
   "cell_type": "code",
   "execution_count": 14,
   "id": "55614389",
   "metadata": {},
   "outputs": [
    {
     "name": "stdout",
     "output_type": "stream",
     "text": [
      "<class 'pandas.core.frame.DataFrame'>\n",
      "RangeIndex: 14107 entries, 0 to 14106\n",
      "Data columns (total 14 columns):\n",
      " #   Column              Non-Null Count  Dtype  \n",
      "---  ------              --------------  -----  \n",
      " 0   track_id            14107 non-null  object \n",
      " 1   track_title         14107 non-null  object \n",
      " 2   track_duration_sec  14107 non-null  float64\n",
      " 3   artist              14107 non-null  object \n",
      " 4   artist_id           14107 non-null  object \n",
      " 5   genre               14107 non-null  object \n",
      " 6   artist_popularity   14107 non-null  int64  \n",
      " 7   album_name          14107 non-null  object \n",
      " 8   release_date        14107 non-null  object \n",
      " 9   album_id            14107 non-null  object \n",
      " 10  total_tracks        14107 non-null  int64  \n",
      " 11  available_markets   14107 non-null  int64  \n",
      " 12  album_type          14107 non-null  object \n",
      " 13  track_popularity    14107 non-null  int64  \n",
      "dtypes: float64(1), int64(4), object(9)\n",
      "memory usage: 1.5+ MB\n"
     ]
    }
   ],
   "source": [
    "dat.info()"
   ]
  },
  {
   "cell_type": "code",
   "execution_count": 15,
   "id": "de1f605c",
   "metadata": {},
   "outputs": [
    {
     "data": {
      "text/html": [
       "<div>\n",
       "<style scoped>\n",
       "    .dataframe tbody tr th:only-of-type {\n",
       "        vertical-align: middle;\n",
       "    }\n",
       "\n",
       "    .dataframe tbody tr th {\n",
       "        vertical-align: top;\n",
       "    }\n",
       "\n",
       "    .dataframe thead th {\n",
       "        text-align: right;\n",
       "    }\n",
       "</style>\n",
       "<table border=\"1\" class=\"dataframe\">\n",
       "  <thead>\n",
       "    <tr style=\"text-align: right;\">\n",
       "      <th></th>\n",
       "      <th>artist_id</th>\n",
       "      <th>artist</th>\n",
       "      <th>genre</th>\n",
       "      <th>artist_popularity</th>\n",
       "    </tr>\n",
       "  </thead>\n",
       "  <tbody>\n",
       "    <tr>\n",
       "      <th>0</th>\n",
       "      <td>3TVXtAsR1Inumwj472S9r4</td>\n",
       "      <td>Drake</td>\n",
       "      <td>canadian hip hop</td>\n",
       "      <td>93</td>\n",
       "    </tr>\n",
       "    <tr>\n",
       "      <th>1</th>\n",
       "      <td>50co4Is1HCEo8bhOyUWKpn</td>\n",
       "      <td>Young Thug</td>\n",
       "      <td>atl hip hop</td>\n",
       "      <td>84</td>\n",
       "    </tr>\n",
       "    <tr>\n",
       "      <th>2</th>\n",
       "      <td>3Nrfpe0tUJi4K4DXYWgMUX</td>\n",
       "      <td>BTS</td>\n",
       "      <td>k-pop</td>\n",
       "      <td>90</td>\n",
       "    </tr>\n",
       "    <tr>\n",
       "      <th>3</th>\n",
       "      <td>4dpARuHxo51G3z768sgnrY</td>\n",
       "      <td>Adele</td>\n",
       "      <td>british soul</td>\n",
       "      <td>84</td>\n",
       "    </tr>\n",
       "    <tr>\n",
       "      <th>4</th>\n",
       "      <td>06HL4z0CvFAxyc27GXpf02</td>\n",
       "      <td>Taylor Swift</td>\n",
       "      <td>pop</td>\n",
       "      <td>92</td>\n",
       "    </tr>\n",
       "  </tbody>\n",
       "</table>\n",
       "</div>"
      ],
      "text/plain": [
       "                artist_id        artist             genre  artist_popularity\n",
       "0  3TVXtAsR1Inumwj472S9r4         Drake  canadian hip hop                 93\n",
       "1  50co4Is1HCEo8bhOyUWKpn    Young Thug       atl hip hop                 84\n",
       "2  3Nrfpe0tUJi4K4DXYWgMUX           BTS             k-pop                 90\n",
       "3  4dpARuHxo51G3z768sgnrY         Adele      british soul                 84\n",
       "4  06HL4z0CvFAxyc27GXpf02  Taylor Swift               pop                 92"
      ]
     },
     "execution_count": 15,
     "metadata": {},
     "output_type": "execute_result"
    }
   ],
   "source": [
    "artist = dat[['artist', 'artist_id', 'genre', 'artist_popularity']]\n",
    "artist = artist.reindex(columns=['artist_id', 'artist', 'genre', 'artist_popularity'])\n",
    "artist.drop_duplicates(subset=['artist_id'], inplace=True)\n",
    "artist.reset_index(drop=True, inplace=True)\n",
    "artist.head()"
   ]
  },
  {
   "cell_type": "code",
   "execution_count": 16,
   "id": "a5b779c6",
   "metadata": {},
   "outputs": [
    {
     "data": {
      "text/html": [
       "<div>\n",
       "<style scoped>\n",
       "    .dataframe tbody tr th:only-of-type {\n",
       "        vertical-align: middle;\n",
       "    }\n",
       "\n",
       "    .dataframe tbody tr th {\n",
       "        vertical-align: top;\n",
       "    }\n",
       "\n",
       "    .dataframe thead th {\n",
       "        text-align: right;\n",
       "    }\n",
       "</style>\n",
       "<table border=\"1\" class=\"dataframe\">\n",
       "  <thead>\n",
       "    <tr style=\"text-align: right;\">\n",
       "      <th></th>\n",
       "      <th>album_id</th>\n",
       "      <th>album_name</th>\n",
       "      <th>artist_id</th>\n",
       "      <th>release_date</th>\n",
       "      <th>total_tracks</th>\n",
       "      <th>available_markets</th>\n",
       "      <th>album_type</th>\n",
       "    </tr>\n",
       "  </thead>\n",
       "  <tbody>\n",
       "    <tr>\n",
       "      <th>0</th>\n",
       "      <td>6sp02aeyiwfX35xRqwNiPv</td>\n",
       "      <td>Certified Lover Boy</td>\n",
       "      <td>3TVXtAsR1Inumwj472S9r4</td>\n",
       "      <td>2021-09-03</td>\n",
       "      <td>21</td>\n",
       "      <td>183</td>\n",
       "      <td>album</td>\n",
       "    </tr>\n",
       "    <tr>\n",
       "      <th>1</th>\n",
       "      <td>6OQ9gBfg5EXeNAEwGSs6jK</td>\n",
       "      <td>Dark Lane Demo Tapes</td>\n",
       "      <td>3TVXtAsR1Inumwj472S9r4</td>\n",
       "      <td>2020-05-01</td>\n",
       "      <td>14</td>\n",
       "      <td>183</td>\n",
       "      <td>album</td>\n",
       "    </tr>\n",
       "    <tr>\n",
       "      <th>2</th>\n",
       "      <td>7dqpveMVcWgbzqYrOdkFTD</td>\n",
       "      <td>Care Package</td>\n",
       "      <td>3TVXtAsR1Inumwj472S9r4</td>\n",
       "      <td>2019-08-02</td>\n",
       "      <td>17</td>\n",
       "      <td>183</td>\n",
       "      <td>album</td>\n",
       "    </tr>\n",
       "    <tr>\n",
       "      <th>3</th>\n",
       "      <td>2podUJIFG8hLfFz7Kqe8yJ</td>\n",
       "      <td>So Far Gone</td>\n",
       "      <td>3TVXtAsR1Inumwj472S9r4</td>\n",
       "      <td>2019-02-14</td>\n",
       "      <td>18</td>\n",
       "      <td>181</td>\n",
       "      <td>album</td>\n",
       "    </tr>\n",
       "    <tr>\n",
       "      <th>4</th>\n",
       "      <td>1ATL5GLyefJaxhQzSPVrLX</td>\n",
       "      <td>Scorpion</td>\n",
       "      <td>3TVXtAsR1Inumwj472S9r4</td>\n",
       "      <td>2018-06-29</td>\n",
       "      <td>25</td>\n",
       "      <td>179</td>\n",
       "      <td>album</td>\n",
       "    </tr>\n",
       "  </tbody>\n",
       "</table>\n",
       "</div>"
      ],
      "text/plain": [
       "                 album_id            album_name               artist_id  \\\n",
       "0  6sp02aeyiwfX35xRqwNiPv   Certified Lover Boy  3TVXtAsR1Inumwj472S9r4   \n",
       "1  6OQ9gBfg5EXeNAEwGSs6jK  Dark Lane Demo Tapes  3TVXtAsR1Inumwj472S9r4   \n",
       "2  7dqpveMVcWgbzqYrOdkFTD          Care Package  3TVXtAsR1Inumwj472S9r4   \n",
       "3  2podUJIFG8hLfFz7Kqe8yJ           So Far Gone  3TVXtAsR1Inumwj472S9r4   \n",
       "4  1ATL5GLyefJaxhQzSPVrLX              Scorpion  3TVXtAsR1Inumwj472S9r4   \n",
       "\n",
       "  release_date  total_tracks  available_markets album_type  \n",
       "0   2021-09-03            21                183      album  \n",
       "1   2020-05-01            14                183      album  \n",
       "2   2019-08-02            17                183      album  \n",
       "3   2019-02-14            18                181      album  \n",
       "4   2018-06-29            25                179      album  "
      ]
     },
     "execution_count": 16,
     "metadata": {},
     "output_type": "execute_result"
    }
   ],
   "source": [
    "albums = dat[['artist_id','album_name', 'release_date', 'album_id', \n",
    "             'total_tracks', 'available_markets', 'album_type']]\n",
    "albums = albums.reindex(columns=['album_id', 'album_name', 'artist_id', \n",
    "            'release_date', 'total_tracks', 'available_markets', 'album_type'])\n",
    "albums.drop_duplicates(subset=['album_id'], inplace=True)\n",
    "albums.reset_index(drop=True, inplace=True)\n",
    "albums.head()"
   ]
  },
  {
   "cell_type": "code",
   "execution_count": 17,
   "id": "2587e9b1",
   "metadata": {},
   "outputs": [
    {
     "data": {
      "text/html": [
       "<div>\n",
       "<style scoped>\n",
       "    .dataframe tbody tr th:only-of-type {\n",
       "        vertical-align: middle;\n",
       "    }\n",
       "\n",
       "    .dataframe tbody tr th {\n",
       "        vertical-align: top;\n",
       "    }\n",
       "\n",
       "    .dataframe thead th {\n",
       "        text-align: right;\n",
       "    }\n",
       "</style>\n",
       "<table border=\"1\" class=\"dataframe\">\n",
       "  <thead>\n",
       "    <tr style=\"text-align: right;\">\n",
       "      <th></th>\n",
       "      <th>track_id</th>\n",
       "      <th>track_title</th>\n",
       "      <th>album_id</th>\n",
       "      <th>track_duration_sec</th>\n",
       "      <th>track_popularity</th>\n",
       "    </tr>\n",
       "  </thead>\n",
       "  <tbody>\n",
       "    <tr>\n",
       "      <th>0</th>\n",
       "      <td>7LSINVHqMXPt4FkTgcH6bt</td>\n",
       "      <td>Champagne Poetry</td>\n",
       "      <td>6sp02aeyiwfX35xRqwNiPv</td>\n",
       "      <td>336511.0</td>\n",
       "      <td>39</td>\n",
       "    </tr>\n",
       "    <tr>\n",
       "      <th>1</th>\n",
       "      <td>6C62fl8x0vzwxPqay8twie</td>\n",
       "      <td>Papi’s Home</td>\n",
       "      <td>6sp02aeyiwfX35xRqwNiPv</td>\n",
       "      <td>178623.0</td>\n",
       "      <td>35</td>\n",
       "    </tr>\n",
       "    <tr>\n",
       "      <th>2</th>\n",
       "      <td>60kRxS2TC4qb2WBPmRmfv4</td>\n",
       "      <td>Girls Want Girls (with Lil Baby)</td>\n",
       "      <td>6sp02aeyiwfX35xRqwNiPv</td>\n",
       "      <td>221979.0</td>\n",
       "      <td>49</td>\n",
       "    </tr>\n",
       "    <tr>\n",
       "      <th>3</th>\n",
       "      <td>7xXVDIulqmlBvDLFMfc3uX</td>\n",
       "      <td>In The Bible (with Lil Durk &amp; Giveon)</td>\n",
       "      <td>6sp02aeyiwfX35xRqwNiPv</td>\n",
       "      <td>296568.0</td>\n",
       "      <td>36</td>\n",
       "    </tr>\n",
       "    <tr>\n",
       "      <th>4</th>\n",
       "      <td>7L8V5vHLo6fMbNaVI7rbhU</td>\n",
       "      <td>Love All (with JAY-Z)</td>\n",
       "      <td>6sp02aeyiwfX35xRqwNiPv</td>\n",
       "      <td>228461.0</td>\n",
       "      <td>36</td>\n",
       "    </tr>\n",
       "  </tbody>\n",
       "</table>\n",
       "</div>"
      ],
      "text/plain": [
       "                 track_id                            track_title  \\\n",
       "0  7LSINVHqMXPt4FkTgcH6bt                       Champagne Poetry   \n",
       "1  6C62fl8x0vzwxPqay8twie                            Papi’s Home   \n",
       "2  60kRxS2TC4qb2WBPmRmfv4       Girls Want Girls (with Lil Baby)   \n",
       "3  7xXVDIulqmlBvDLFMfc3uX  In The Bible (with Lil Durk & Giveon)   \n",
       "4  7L8V5vHLo6fMbNaVI7rbhU                  Love All (with JAY-Z)   \n",
       "\n",
       "                 album_id  track_duration_sec  track_popularity  \n",
       "0  6sp02aeyiwfX35xRqwNiPv            336511.0                39  \n",
       "1  6sp02aeyiwfX35xRqwNiPv            178623.0                35  \n",
       "2  6sp02aeyiwfX35xRqwNiPv            221979.0                49  \n",
       "3  6sp02aeyiwfX35xRqwNiPv            296568.0                36  \n",
       "4  6sp02aeyiwfX35xRqwNiPv            228461.0                36  "
      ]
     },
     "execution_count": 17,
     "metadata": {},
     "output_type": "execute_result"
    }
   ],
   "source": [
    "tracks = dat[['track_id', 'track_title', 'track_duration_sec', 'album_id', 'track_popularity']]\n",
    "tracks = tracks.reindex(columns=['track_id', 'track_title', 'album_id', 'track_duration_sec', 'track_popularity'])\n",
    "tracks.drop_duplicates(subset=['track_id'], inplace=True)\n",
    "tracks.reset_index(drop=True, inplace=True)\n",
    "tracks.head()"
   ]
  },
  {
   "cell_type": "markdown",
   "id": "0d2d8f96",
   "metadata": {},
   "source": [
    "## **PART 3: Store Tables into PostgreSQL Database**"
   ]
  },
  {
   "cell_type": "markdown",
   "id": "72a2c389",
   "metadata": {},
   "source": [
    "**CONNECT TO DATABASE**"
   ]
  },
  {
   "cell_type": "code",
   "execution_count": 18,
   "id": "015edafd",
   "metadata": {},
   "outputs": [],
   "source": [
    "host_name = 'localhost'\n",
    "dbname = 'spotify_data_db'\n",
    "port = '5432'\n",
    "username = 'postgres' \n",
    "password = 'password'\n",
    "conn = None"
   ]
  },
  {
   "cell_type": "code",
   "execution_count": 19,
   "id": "24e750ef",
   "metadata": {},
   "outputs": [],
   "source": [
    "def connect_to_db(host_name, dbname, port, username, password):\n",
    "    try:\n",
    "        conn = ps.connect(host=host_name, database=dbname, user=username, password=password, port=port)\n",
    "\n",
    "    except ps.OperationalError as e:\n",
    "        raise e\n",
    "    else:\n",
    "        print('Connected!')\n",
    "        return conn"
   ]
  },
  {
   "cell_type": "code",
   "execution_count": 20,
   "id": "6e16f382",
   "metadata": {},
   "outputs": [
    {
     "name": "stdout",
     "output_type": "stream",
     "text": [
      "Connected!\n"
     ]
    }
   ],
   "source": [
    "conn = connect_to_db(host_name, dbname,port, username, password)"
   ]
  },
  {
   "cell_type": "code",
   "execution_count": 21,
   "id": "48099af1",
   "metadata": {},
   "outputs": [],
   "source": [
    "curr = conn.cursor()"
   ]
  },
  {
   "cell_type": "markdown",
   "id": "ce6e6443",
   "metadata": {},
   "source": [
    "## Append **ARTIST** dataframe onto database"
   ]
  },
  {
   "cell_type": "markdown",
   "id": "a77847c3",
   "metadata": {},
   "source": [
    "**Create artist table**"
   ]
  },
  {
   "cell_type": "code",
   "execution_count": 22,
   "id": "7069ff1a",
   "metadata": {},
   "outputs": [],
   "source": [
    "def create_artist_table(curr):\n",
    "    create_table_command = (\"\"\"CREATE TABLE IF NOT EXISTS artist_dataset (\n",
    "                    artist_id VARCHAR(255) PRIMARY KEY NOT NULL,\n",
    "                    artist VARCHAR(255) NOT NULL,\n",
    "                    genre VARCHAR(255) NOT NULL,\n",
    "                    artist_popularity INTEGER NOT NULL\n",
    "            )\"\"\")\n",
    "    curr.execute(create_table_command)"
   ]
  },
  {
   "cell_type": "code",
   "execution_count": 23,
   "id": "682a7975",
   "metadata": {},
   "outputs": [],
   "source": [
    "create_artist_table(curr)"
   ]
  },
  {
   "cell_type": "code",
   "execution_count": 24,
   "id": "f826aea2",
   "metadata": {},
   "outputs": [],
   "source": [
    "conn.commit()"
   ]
  },
  {
   "cell_type": "markdown",
   "id": "8ee8bbc1",
   "metadata": {},
   "source": [
    "**Check if row item in artist dataframe exists on database** <br>\n",
    "If exists, update values across entire line item<br>\n",
    "If not, append the line item onto a new placeholder dataframe"
   ]
  },
  {
   "cell_type": "code",
   "execution_count": 25,
   "id": "af368bd9",
   "metadata": {},
   "outputs": [],
   "source": [
    "def update_artist_table(curr,df):\n",
    "    tmp_df = pd.DataFrame(columns=['artist_id', 'artist', 'genre', 'artist_popularity'])\n",
    "    for i, row in df.iterrows():\n",
    "        if check_if_artist_exists_on_db(curr, row['artist_id']):\n",
    "            update_artist_row(curr,row['artist_id'],row['artist'],row['genre'],row['artist_popularity'])\n",
    "        else: # The track doesn't exists so we will add it to a temp df and append it using append_from_df_to_db\n",
    "            tmp_df = tmp_df.append(row)\n",
    "\n",
    "    return tmp_df"
   ]
  },
  {
   "cell_type": "code",
   "execution_count": 26,
   "id": "6c62ee34",
   "metadata": {},
   "outputs": [],
   "source": [
    "def check_if_artist_exists_on_db(curr, artist_id): \n",
    "    query = (\"\"\"SELECT artist_id FROM artist_dataset WHERE artist_id = %s\"\"\")\n",
    "\n",
    "    curr.execute(query, (artist_id,))\n",
    "    return curr.fetchone() is not None"
   ]
  },
  {
   "cell_type": "code",
   "execution_count": 27,
   "id": "3127e7b1",
   "metadata": {},
   "outputs": [],
   "source": [
    "def update_artist_row(curr, artist_id, artist, genre, artist_popularity):\n",
    "    query = (\"\"\"UPDATE artist_dataset\n",
    "            SET artist_id = %s,\n",
    "                artist = %s,\n",
    "                genre = %s,\n",
    "                artist_popularity = %s\n",
    "            WHERE artist_id = %s;\"\"\")\n",
    "    vars_to_update = (artist_id, artist, genre, artist_popularity, artist_id)\n",
    "    curr.execute(query, vars_to_update)"
   ]
  },
  {
   "cell_type": "code",
   "execution_count": 28,
   "id": "9438a1db",
   "metadata": {},
   "outputs": [],
   "source": [
    "new_artist_df = update_artist_table(curr,artist)\n",
    "conn.commit()"
   ]
  },
  {
   "cell_type": "markdown",
   "id": "07a03290",
   "metadata": {},
   "source": [
    "**Insert values from placeholder dataframe into artist_dataset database**"
   ]
  },
  {
   "cell_type": "code",
   "execution_count": 29,
   "id": "cbc3c5ab",
   "metadata": {},
   "outputs": [],
   "source": [
    "def append_from_artist_phdf_to_db(curr,df):\n",
    "    for i, row in df.iterrows():\n",
    "        insert_into_artist_table(curr,row['artist_id'],row['artist'],row['genre'],row['artist_popularity'])"
   ]
  },
  {
   "cell_type": "code",
   "execution_count": 30,
   "id": "02301ac6",
   "metadata": {},
   "outputs": [],
   "source": [
    "def insert_into_artist_table(curr, artist_id, artist, genre, artist_popularity):\n",
    "    insert_into_tracks = (\"\"\"INSERT INTO artist_dataset (artist_id,artist,genre,artist_popularity)\n",
    "    VALUES(%s,%s,%s,%s)\n",
    "    ON CONFLICT (artist_id)\n",
    "    DO NOTHING;\"\"\")\n",
    "    row_to_insert = (artist_id, artist, genre, artist_popularity)\n",
    "    curr.execute(insert_into_tracks, row_to_insert)"
   ]
  },
  {
   "cell_type": "code",
   "execution_count": 32,
   "id": "7c99206a",
   "metadata": {},
   "outputs": [],
   "source": [
    "append_from_artist_phdf_to_db(curr, new_artist_df)\n",
    "conn.commit()"
   ]
  },
  {
   "cell_type": "markdown",
   "id": "dace1d98",
   "metadata": {},
   "source": [
    "## Append **ALBUMS** dataframe onto database"
   ]
  },
  {
   "cell_type": "markdown",
   "id": "51794bd9",
   "metadata": {},
   "source": [
    "**Create albums table**"
   ]
  },
  {
   "cell_type": "code",
   "execution_count": 33,
   "id": "ce483a86",
   "metadata": {},
   "outputs": [],
   "source": [
    "def create_albums_table(curr):\n",
    "    create_table_command = (\"\"\"CREATE TABLE IF NOT EXISTS albums_dataset (\n",
    "                    album_id VARCHAR(255) PRIMARY KEY NOT NULL,\n",
    "                    album_name VARCHAR(255) NOT NULL,\n",
    "                    artist_id VARCHAR(255) REFERENCES artist_dataset(artist_id) NOT NULL,\n",
    "                    release_date VARCHAR(50) NOT NULL,\n",
    "                    total_tracks INTEGER NOT NULL,\n",
    "                    available_markets INTEGER NOT NULL,\n",
    "                    album_type VARCHAR(255) NOT NULL\n",
    "            )\"\"\")\n",
    "    curr.execute(create_table_command)"
   ]
  },
  {
   "cell_type": "code",
   "execution_count": 34,
   "id": "42f3bcef",
   "metadata": {},
   "outputs": [],
   "source": [
    "create_albums_table(curr)"
   ]
  },
  {
   "cell_type": "code",
   "execution_count": 35,
   "id": "f29e1116",
   "metadata": {},
   "outputs": [],
   "source": [
    "conn.commit()"
   ]
  },
  {
   "cell_type": "markdown",
   "id": "58323cab",
   "metadata": {},
   "source": [
    "**Check if row item in albums dataframe exists on database** <br>\n",
    "If exists, update values across entire line item<br>\n",
    "If not, append the line item onto a new placeholder dataframe"
   ]
  },
  {
   "cell_type": "code",
   "execution_count": 36,
   "id": "083deb7b",
   "metadata": {},
   "outputs": [],
   "source": [
    "def update_albums_table(curr,df):\n",
    "    tmp_df = pd.DataFrame(columns=['album_id', 'album_name', 'artist_id', 'release_date', 'total_tracks',\n",
    "       'available_markets', 'album_type'])\n",
    "    for i, row in df.iterrows():\n",
    "        if check_if_album_exists_on_db(curr, row['album_id']):\n",
    "            update_album_row(curr,row['album_id'],row['album_name'],row['artist_id'],row['release_date'],\n",
    "                             row['total_tracks'],row['available_markets'],row['album_type'])\n",
    "        else: \n",
    "            tmp_df = tmp_df.append(row)\n",
    "\n",
    "    return tmp_df"
   ]
  },
  {
   "cell_type": "code",
   "execution_count": 37,
   "id": "05da3212",
   "metadata": {},
   "outputs": [],
   "source": [
    "def check_if_album_exists_on_db(curr, album_id): \n",
    "    query = (\"\"\"SELECT album_id FROM albums_dataset WHERE album_id = %s\"\"\")\n",
    "\n",
    "    curr.execute(query, (album_id,))\n",
    "    return curr.fetchone() is not None"
   ]
  },
  {
   "cell_type": "code",
   "execution_count": 38,
   "id": "200db001",
   "metadata": {},
   "outputs": [],
   "source": [
    "def update_album_row(curr, album_id, album_name, artist_id, release_date, total_tracks, \n",
    "                     available_markets, album_type):\n",
    "    query = (\"\"\"UPDATE albums_dataset\n",
    "            SET album_id = %s,\n",
    "                album_name = %s,\n",
    "                artist_id = %s,\n",
    "                release_date = %s,\n",
    "                total_tracks = %s,\n",
    "                available_markets = %s,\n",
    "                album_type = %s\n",
    "            WHERE artist_id = %s;\"\"\")\n",
    "    vars_to_update = (album_id, album_name, artist_id, release_date, total_tracks, \n",
    "                     available_markets, album_type)\n",
    "    curr.execute(query, vars_to_update)"
   ]
  },
  {
   "cell_type": "code",
   "execution_count": 39,
   "id": "816907f6",
   "metadata": {},
   "outputs": [],
   "source": [
    "new_albums_df = update_albums_table(curr,albums)\n",
    "conn.commit()"
   ]
  },
  {
   "cell_type": "markdown",
   "id": "3c51eeda",
   "metadata": {},
   "source": [
    "**Insert values from placeholder dataframe into album_dataset database**"
   ]
  },
  {
   "cell_type": "code",
   "execution_count": 40,
   "id": "cb6c6064",
   "metadata": {},
   "outputs": [
    {
     "data": {
      "text/plain": [
       "Index(['album_id', 'album_name', 'artist_id', 'release_date', 'total_tracks',\n",
       "       'available_markets', 'album_type'],\n",
       "      dtype='object')"
      ]
     },
     "execution_count": 40,
     "metadata": {},
     "output_type": "execute_result"
    }
   ],
   "source": [
    "albums.columns"
   ]
  },
  {
   "cell_type": "code",
   "execution_count": 41,
   "id": "bafad04a",
   "metadata": {},
   "outputs": [],
   "source": [
    "def append_from_album_phdf_to_db(curr,df):\n",
    "    for i, row in df.iterrows():\n",
    "        insert_into_album_table(curr,row['album_id'],row['album_name'],row['artist_id'],row['release_date'],\n",
    "                             row['total_tracks'],row['available_markets'],row['album_type'])"
   ]
  },
  {
   "cell_type": "code",
   "execution_count": 42,
   "id": "b6dd20c5",
   "metadata": {},
   "outputs": [],
   "source": [
    "def insert_into_album_table(curr, album_id, album_name, artist_id, release_date, total_tracks, \n",
    "                     available_markets, album_type):\n",
    "    insert_into_tracks = (\"\"\"INSERT INTO albums_dataset (album_id, album_name, artist_id, release_date, total_tracks, \n",
    "                     available_markets, album_type)\n",
    "    VALUES(%s,%s,%s,%s,%s,%s,%s)\n",
    "    ON CONFLICT (album_id)\n",
    "    DO NOTHING;\"\"\")\n",
    "    row_to_insert = (album_id, album_name, artist_id, release_date, total_tracks, \n",
    "                     available_markets, album_type)\n",
    "    curr.execute(insert_into_tracks, row_to_insert)"
   ]
  },
  {
   "cell_type": "code",
   "execution_count": 43,
   "id": "1d8e8766",
   "metadata": {},
   "outputs": [],
   "source": [
    "append_from_album_phdf_to_db(curr, new_albums_df)\n",
    "conn.commit()"
   ]
  },
  {
   "cell_type": "markdown",
   "id": "053486a8",
   "metadata": {},
   "source": [
    "## Append **TRACKS** dataframe onto database"
   ]
  },
  {
   "cell_type": "markdown",
   "id": "00c660d0",
   "metadata": {},
   "source": [
    "**Create tracks table**"
   ]
  },
  {
   "cell_type": "code",
   "execution_count": 44,
   "id": "5f613c0f",
   "metadata": {},
   "outputs": [],
   "source": [
    "def create_tracks_table(curr):\n",
    "    create_table_command = (\"\"\"CREATE TABLE IF NOT EXISTS tracks_dataset (\n",
    "                    track_id VARCHAR(255) PRIMARY KEY,\n",
    "                    track_title VARCHAR(255) NOT NULL,\n",
    "                    track_duration_sec NUMERIC NOT NULL,\n",
    "                    album_id VARCHAR(255) REFERENCES albums_dataset(album_id) NOT NULL,\n",
    "                    track_popularity INTEGER NOT NULL\n",
    "            )\"\"\")\n",
    "    curr.execute(create_table_command)"
   ]
  },
  {
   "cell_type": "code",
   "execution_count": 45,
   "id": "d2bf7482",
   "metadata": {},
   "outputs": [],
   "source": [
    "create_tracks_table(curr)"
   ]
  },
  {
   "cell_type": "code",
   "execution_count": 46,
   "id": "e23de925",
   "metadata": {},
   "outputs": [],
   "source": [
    "conn.commit()"
   ]
  },
  {
   "cell_type": "markdown",
   "id": "44fec9c9",
   "metadata": {},
   "source": [
    "**Check if row item in tracks dataframe exists on database** <br>\n",
    "If exists, update values across entire line item<br>\n",
    "If not, append the line item onto a new placeholder dataframe"
   ]
  },
  {
   "cell_type": "code",
   "execution_count": 47,
   "id": "d30b37c3",
   "metadata": {},
   "outputs": [
    {
     "data": {
      "text/plain": [
       "Index(['track_id', 'track_title', 'album_id', 'track_duration_sec',\n",
       "       'track_popularity'],\n",
       "      dtype='object')"
      ]
     },
     "execution_count": 47,
     "metadata": {},
     "output_type": "execute_result"
    }
   ],
   "source": [
    "tracks.columns"
   ]
  },
  {
   "cell_type": "code",
   "execution_count": 48,
   "id": "067ce680",
   "metadata": {},
   "outputs": [],
   "source": [
    "def update_tracks_table(curr,df):\n",
    "    tmp_df = pd.DataFrame(columns=['track_id', 'track_title', 'album_id', 'track_duration_sec', 'track_popularity'])\n",
    "    for i, row in df.iterrows():\n",
    "        if check_if_track_exists_on_db(curr, row['track_id']):\n",
    "            update_track_row(curr,row['track_id'],row['track_title'],row['album_id'],\n",
    "                             row['track_duration_sec'],row['track_popularity'])\n",
    "        else: \n",
    "            tmp_df = tmp_df.append(row)\n",
    "\n",
    "    return tmp_df"
   ]
  },
  {
   "cell_type": "code",
   "execution_count": 49,
   "id": "a7aa8e36",
   "metadata": {},
   "outputs": [],
   "source": [
    "def check_if_track_exists_on_db(curr, track_id): \n",
    "    query = (\"\"\"SELECT track_id FROM tracks_dataset WHERE track_id = %s\"\"\")\n",
    "\n",
    "    curr.execute(query, (track_id,))\n",
    "    return curr.fetchone() is not None"
   ]
  },
  {
   "cell_type": "code",
   "execution_count": 50,
   "id": "64f622ff",
   "metadata": {},
   "outputs": [],
   "source": [
    "def update_track_row(curr, track_id, track_title, album_id, track_duration_sec, track_popularity):\n",
    "    query = (\"\"\"UPDATE tracks_dataset\n",
    "            SET track_id = %s,\n",
    "                track_title = %s,\n",
    "                album_id = %s,\n",
    "                track_duration_sec = %s,\n",
    "                track_popularity = %s\n",
    "            WHERE track_id = %s;\"\"\")\n",
    "    vars_to_update = (track_id, track_title, album_id, track_duration_sec, track_popularity)\n",
    "    curr.execute(query, vars_to_update)"
   ]
  },
  {
   "cell_type": "code",
   "execution_count": 51,
   "id": "64d4fd54",
   "metadata": {},
   "outputs": [],
   "source": [
    "new_tracks_df = update_tracks_table(curr,tracks)\n",
    "conn.commit()"
   ]
  },
  {
   "cell_type": "markdown",
   "id": "60759cf3",
   "metadata": {},
   "source": [
    "**Insert values from placeholder dataframe into tracks_dataset database**"
   ]
  },
  {
   "cell_type": "code",
   "execution_count": 52,
   "id": "e405e5f1",
   "metadata": {},
   "outputs": [],
   "source": [
    "def append_from_tracks_phdf_to_db(curr,df):\n",
    "    for i, row in df.iterrows():\n",
    "        insert_into_tracks_table(curr,row['track_id'],row['track_title'],row['album_id'],\n",
    "                             row['track_duration_sec'],row['track_popularity'])"
   ]
  },
  {
   "cell_type": "code",
   "execution_count": 53,
   "id": "bc49da33",
   "metadata": {},
   "outputs": [],
   "source": [
    "def insert_into_tracks_table(curr, track_id, track_title, album_id, track_duration_sec, track_popularity):\n",
    "    insert_into_tracks = (\"\"\"INSERT INTO tracks_dataset (track_id, track_title, album_id, \n",
    "    track_duration_sec, track_popularity)\n",
    "    VALUES(%s,%s,%s,%s,%s)\n",
    "    ON CONFLICT (track_id)\n",
    "    DO NOTHING;\"\"\")\n",
    "    row_to_insert = (track_id, track_title, album_id, track_duration_sec, track_popularity)\n",
    "    curr.execute(insert_into_tracks, row_to_insert)"
   ]
  },
  {
   "cell_type": "code",
   "execution_count": 54,
   "id": "c0e17746",
   "metadata": {},
   "outputs": [],
   "source": [
    "append_from_tracks_phdf_to_db(curr, new_tracks_df)\n",
    "conn.commit()"
   ]
  },
  {
   "cell_type": "code",
   "execution_count": null,
   "id": "0ddb2117",
   "metadata": {},
   "outputs": [],
   "source": []
  },
  {
   "cell_type": "code",
   "execution_count": null,
   "id": "443492cb",
   "metadata": {},
   "outputs": [],
   "source": [
    "#end"
   ]
  }
 ],
 "metadata": {
  "kernelspec": {
   "display_name": "Python 3",
   "language": "python",
   "name": "python3"
  },
  "language_info": {
   "codemirror_mode": {
    "name": "ipython",
    "version": 3
   },
   "file_extension": ".py",
   "mimetype": "text/x-python",
   "name": "python",
   "nbconvert_exporter": "python",
   "pygments_lexer": "ipython3",
   "version": "3.8.8"
  }
 },
 "nbformat": 4,
 "nbformat_minor": 5
}
